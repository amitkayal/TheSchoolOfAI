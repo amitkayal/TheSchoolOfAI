{
  "nbformat": 4,
  "nbformat_minor": 0,
  "metadata": {
    "colab": {
      "name": "PyTorch101.ipynb",
      "provenance": [],
      "collapsed_sections": []
    },
    "kernelspec": {
      "name": "python3",
      "display_name": "Python 3"
    },
    "accelerator": "TPU"
  },
  "cells": [
    {
      "cell_type": "markdown",
      "metadata": {
        "id": "_kYM3ylzYo1Q",
        "colab_type": "text"
      },
      "source": [
        "![PyTorch](https://devblogs.nvidia.com/wp-content/uploads/2017/04/pytorch-logo-dark.png)\n",
        "\n",
        "An open source machine learning framework that accelerates the path from research prototyping to production deployment.\n",
        "\n"
      ]
    },
    {
      "cell_type": "markdown",
      "metadata": {
        "id": "WcVqSTrWY6oz",
        "colab_type": "text"
      },
      "source": [
        "# Tensor - Pytorch's core data structure\n",
        "\n",
        "In Python we can create lists, lists of lists, lists of lists and so on. In NumPy there is a `numpy.ndarray` which represents `n`- dimensional array. In math there is a special name for the generalization of vectors and matrices to a higher dimensional space - a tensor\n",
        "\n",
        "Tensor is an entity with a defined number of dimensions called an order (rank). \n",
        "\n",
        "**Scalar** can be considered as a rank-0-tensor. \n",
        "\n",
        "**Vector** can be introduced as a rank-1-tensor. \n",
        "\n",
        "**Matrices** can be considered as a rank-2-tensor.\n",
        "\n",
        "# Tensor Basics\n",
        "\n",
        "Let's import the torch module first."
      ]
    },
    {
      "cell_type": "code",
      "metadata": {
        "id": "e-oFVL2tYYqp",
        "colab_type": "code",
        "colab": {}
      },
      "source": [
        "import numpy as np\n",
        "import torch"
      ],
      "execution_count": 0,
      "outputs": []
    },
    {
      "cell_type": "markdown",
      "metadata": {
        "id": "uGxuR5IEaFJa",
        "colab_type": "text"
      },
      "source": [
        "## Tensor Creation\n",
        "Let's view examples of matrices and tensors generation\n",
        "\n",
        "2-dimensional (rank-2) tensor of zeros:"
      ]
    },
    {
      "cell_type": "code",
      "metadata": {
        "id": "897JQc25aD3E",
        "colab_type": "code",
        "outputId": "b53f34c3-c024-45a0-bbaf-88de025596b6",
        "colab": {
          "base_uri": "https://localhost:8080/",
          "height": 70
        }
      },
      "source": [
        "torch.zeros(3, 4)"
      ],
      "execution_count": 2,
      "outputs": [
        {
          "output_type": "execute_result",
          "data": {
            "text/plain": [
              "tensor([[0., 0., 0., 0.],\n",
              "        [0., 0., 0., 0.],\n",
              "        [0., 0., 0., 0.]])"
            ]
          },
          "metadata": {
            "tags": []
          },
          "execution_count": 2
        }
      ]
    },
    {
      "cell_type": "markdown",
      "metadata": {
        "id": "pujmpEBhaPRA",
        "colab_type": "text"
      },
      "source": [
        "Random rank-3 tensor:\n",
        "_read the print below and convince yourself how this is a rank-3-tensor and learn what those 2, 3, 4 values are there for_"
      ]
    },
    {
      "cell_type": "code",
      "metadata": {
        "id": "mBrznTNhaOL7",
        "colab_type": "code",
        "outputId": "4cdd9122-b214-40b6-cb43-05b43f26da7f",
        "colab": {
          "base_uri": "https://localhost:8080/",
          "height": 141
        }
      },
      "source": [
        "torch.rand(2, 3, 4)"
      ],
      "execution_count": 3,
      "outputs": [
        {
          "output_type": "execute_result",
          "data": {
            "text/plain": [
              "tensor([[[0.8552, 0.6075, 0.0504, 0.5342],\n",
              "         [0.3752, 0.8252, 0.0706, 0.4908],\n",
              "         [0.3181, 0.2588, 0.3624, 0.2529]],\n",
              "\n",
              "        [[0.9074, 0.9859, 0.1906, 0.8259],\n",
              "         [0.7948, 0.3424, 0.5835, 0.6668],\n",
              "         [0.0992, 0.8417, 0.3048, 0.9980]]])"
            ]
          },
          "metadata": {
            "tags": []
          },
          "execution_count": 3
        }
      ]
    },
    {
      "cell_type": "markdown",
      "metadata": {
        "id": "kO4fIr15asdi",
        "colab_type": "text"
      },
      "source": [
        "I am hoping you have noticed 4-elements in a row, 3 rows making one block and there are 2 blocks. \n",
        "\n",
        "Random rank-4-tensor:"
      ]
    },
    {
      "cell_type": "code",
      "metadata": {
        "id": "KiCLvMGCaVZ3",
        "colab_type": "code",
        "outputId": "0abd6c11-226d-4e08-c655-aba04e52ff07",
        "colab": {
          "base_uri": "https://localhost:8080/",
          "height": 230
        }
      },
      "source": [
        "torch.rand(2, 2, 2, 3)"
      ],
      "execution_count": 4,
      "outputs": [
        {
          "output_type": "execute_result",
          "data": {
            "text/plain": [
              "tensor([[[[0.0550, 0.7870, 0.9587],\n",
              "          [0.9534, 0.9125, 0.0181]],\n",
              "\n",
              "         [[0.4499, 0.2903, 0.1923],\n",
              "          [0.6244, 0.8830, 0.9565]]],\n",
              "\n",
              "\n",
              "        [[[0.1117, 0.7293, 0.4099],\n",
              "          [0.2415, 0.7569, 0.2580]],\n",
              "\n",
              "         [[0.8283, 0.2616, 0.1638],\n",
              "          [0.0418, 0.8529, 0.8265]]]])"
            ]
          },
          "metadata": {
            "tags": []
          },
          "execution_count": 4
        }
      ]
    },
    {
      "cell_type": "markdown",
      "metadata": {
        "id": "lF6VL68s3AMV",
        "colab_type": "text"
      },
      "source": [
        "## Question 1:\n",
        "\n",
        "How many dimensions are there in a tensor defined as below?\n",
        "## 4"
      ]
    },
    {
      "cell_type": "code",
      "metadata": {
        "id": "8IbXcI3x3Ibt",
        "colab_type": "code",
        "outputId": "903da288-9710-44ca-c4f7-c50d3c1254e8",
        "colab": {
          "base_uri": "https://localhost:8080/",
          "height": 34
        }
      },
      "source": [
        "torch.rand(1, 1, 1, 1)"
      ],
      "execution_count": 5,
      "outputs": [
        {
          "output_type": "execute_result",
          "data": {
            "text/plain": [
              "tensor([[[[0.2151]]]])"
            ]
          },
          "metadata": {
            "tags": []
          },
          "execution_count": 5
        }
      ]
    },
    {
      "cell_type": "markdown",
      "metadata": {
        "id": "qmgpqssRa9jF",
        "colab_type": "text"
      },
      "source": [
        "\n",
        "---\n",
        "\n",
        "\n",
        "There are many more ways to create tensor using some restrictions on values it should contatn - for the full reference, please follow the [official docs](https://pytorch.org/docs/stable/torch.html#creation-ops). \n",
        "\n",
        "\n",
        "---\n",
        "\n",
        "\n",
        "# Python / NumPy / Pytorch interoperability\n",
        "\n",
        "You can create tensors from python as well as numpy arrays. You can also convert torch tensors to numpy arrays. So, the interoperability between torch and numpy is pretty good. "
      ]
    },
    {
      "cell_type": "code",
      "metadata": {
        "id": "ipgpeWPfa6gE",
        "colab_type": "code",
        "outputId": "f31fc681-879b-49ae-bf10-9a9b197f1c48",
        "colab": {
          "base_uri": "https://localhost:8080/",
          "height": 123
        }
      },
      "source": [
        "# Simple Python List\n",
        "python_list = [1, 2]\n",
        "\n",
        "# Create a numpy array from python list\n",
        "numpy_array = np.array(python_list)\n",
        "\n",
        "# Create a torch Tensor from python list\n",
        "tensor_from_list = torch.tensor(python_list)\n",
        "\n",
        "# Create a torch Tensor from Numpy array\n",
        "tensor_from_array = torch.tensor(numpy_array)\n",
        "\n",
        "# Another way to create a torch Tensor from Numpy array (share same storage)\n",
        "tensor_from_array_v2 = torch.from_numpy(numpy_array)\n",
        "\n",
        "# Convert torch tensor to numpy array\n",
        "array_from_tensor = tensor_from_array.numpy()\n",
        "\n",
        "print('List:   ', python_list)\n",
        "print('Array:  ', numpy_array)\n",
        "print('Tensor: ', tensor_from_list)\n",
        "print('Tensor: ', tensor_from_array)\n",
        "print('Tensor: ', tensor_from_array_v2)\n",
        "print('Array:  ', array_from_tensor)"
      ],
      "execution_count": 23,
      "outputs": [
        {
          "output_type": "stream",
          "text": [
            "List:    [1, 2]\n",
            "Array:   [1 2]\n",
            "Tensor:  tensor([1, 2])\n",
            "Tensor:  tensor([1, 2])\n",
            "Tensor:  tensor([1, 2])\n",
            "Array:   [1 2]\n"
          ],
          "name": "stdout"
        }
      ]
    },
    {
      "cell_type": "markdown",
      "metadata": {
        "id": "X_x-86B8gqik",
        "colab_type": "text"
      },
      "source": [
        "**Difference between** `torch.Tensor` **and** `torch.from_numpy`\n",
        "\n",
        "Pytorch aims to be an effective library for computations. What does it mean? It means that pytorch avoids memory copying if it can. "
      ]
    },
    {
      "cell_type": "code",
      "metadata": {
        "id": "eHCKDGpygn_d",
        "colab_type": "code",
        "outputId": "aba12b47-aa01-42d4-e5a2-887657ed2b5b",
        "colab": {
          "base_uri": "https://localhost:8080/",
          "height": 70
        }
      },
      "source": [
        "numpy_array[0] = 10\n",
        "\n",
        "print('Array:  ', numpy_array)\n",
        "print('Tensor: ', tensor_from_array) # no memory copy (torch.tensor)\n",
        "print('Tensor: ', tensor_from_array_v2) # memory copied (torch.from_numpy)"
      ],
      "execution_count": 24,
      "outputs": [
        {
          "output_type": "stream",
          "text": [
            "Array:   [10  2]\n",
            "Tensor:  tensor([1, 2])\n",
            "Tensor:  tensor([10,  2])\n"
          ],
          "name": "stdout"
        }
      ]
    },
    {
      "cell_type": "markdown",
      "metadata": {
        "id": "-CKtdNRM3SMp",
        "colab_type": "text"
      },
      "source": [
        "## Question 2:\n",
        "\n",
        "Assume that we moved our complete (cats vs dogs) image dataset to numpy arrays. Then we use torch.from_numpy to convert these images to tensor. Then we apply a specific data augmentation strategy called \"CutOut\" which blocks a portion of the image directly on these tensors. What will happen to the accuracy of a model trained on this strategy compared to the one without this strategy? CutOut strategy is shown below: \n",
        "\n",
        "![CutOut](https://encrypted-tbn0.gstatic.com/images?q=tbn%3AANd9GcSnSyN835AmtQPKQbPjDHX-FmshNilbtexX95cRGQPwl56QCGDn)\n",
        "\n",
        "### *Accuracy will increase in case of model trained on cutout strategy compared to the one without this strategy.*\n",
        "\n",
        "## Question 3:\n",
        "Why do you think we are observing this behavior?\n",
        "\n",
        "##  *Cutout improve the robustness and overall performance of convolutional neural networks. It is a form of regularization and it prevents model from over-fitting.*\n",
        "\n",
        "\n",
        "---\n",
        "\n",
        "\n"
      ]
    },
    {
      "cell_type": "markdown",
      "metadata": {
        "id": "dZq7O-aihSOA",
        "colab_type": "text"
      },
      "source": [
        "We have two different ways to create tensor from its NumPy counterpart - one copies memory and another one shares the same underlying storage. It works in the opposite way:"
      ]
    },
    {
      "cell_type": "code",
      "metadata": {
        "id": "TNFOwV8EhPwQ",
        "colab_type": "code",
        "outputId": "d071a1c1-c4ef-4b46-f404-87bc45d73bbd",
        "colab": {
          "base_uri": "https://localhost:8080/",
          "height": 105
        }
      },
      "source": [
        "numpy_array = np.array(python_list)\n",
        "tensor_from_array = torch.tensor(numpy_array)\n",
        "\n",
        "\n",
        "array_from_tensor = tensor_from_array.numpy()\n",
        "print('Tensor: ', tensor_from_array)\n",
        "print('Array: ', array_from_tensor)\n",
        "\n",
        "# array_from_tensor = array_from_tensor * 5\n",
        "# print('\\nTensor: ', tensor_from_array)\n",
        "# print('Array: ', array_from_tensor)\n",
        "\n",
        "tensor_from_array[0] = 11\n",
        "print('\\nTensor: ', tensor_from_array)\n",
        "print('Array: ', array_from_tensor)"
      ],
      "execution_count": 27,
      "outputs": [
        {
          "output_type": "stream",
          "text": [
            "Tensor:  tensor([1, 2])\n",
            "Array:  [1 2]\n",
            "\n",
            "Tensor:  tensor([11,  2])\n",
            "Array:  [11  2]\n"
          ],
          "name": "stdout"
        }
      ]
    },
    {
      "cell_type": "code",
      "metadata": {
        "id": "zSg0q-Y8EBqj",
        "colab_type": "code",
        "colab": {
          "base_uri": "https://localhost:8080/",
          "height": 158
        },
        "outputId": "57603da2-54bb-4a25-987d-1da335a8d5bd"
      },
      "source": [
        "numpy_array = np.array(python_list)\n",
        "tensor_from_array = torch.tensor(numpy_array)\n",
        "\n",
        "array_from_tensor = tensor_from_array.numpy()\n",
        "print('Tensor: ', tensor_from_array)\n",
        "print('Array: ', array_from_tensor)\n",
        "\n",
        "array_from_tensor = array_from_tensor * 5\n",
        "print('\\nTensor: ', tensor_from_array)\n",
        "print('Array: ', array_from_tensor)\n",
        "\n",
        "tensor_from_array[0] = 11\n",
        "print('\\nTensor: ', tensor_from_array)\n",
        "print('Array: ', array_from_tensor)"
      ],
      "execution_count": 28,
      "outputs": [
        {
          "output_type": "stream",
          "text": [
            "Tensor:  tensor([1, 2])\n",
            "Array:  [1 2]\n",
            "\n",
            "Tensor:  tensor([1, 2])\n",
            "Array:  [ 5 10]\n",
            "\n",
            "Tensor:  tensor([11,  2])\n",
            "Array:  [ 5 10]\n"
          ],
          "name": "stdout"
        }
      ]
    },
    {
      "cell_type": "markdown",
      "metadata": {
        "id": "UM9ytbvKhtCw",
        "colab_type": "text"
      },
      "source": [
        "## Data types\n",
        "\n",
        "The basic data type of all Deep Learning-related operations is float, but sometimes you may need something else. Pytorch support different number types for its tensors the same way NumPy does it - by specifying the data type on tensor creation or via casting. Ths full list of supported data types can be found [here](https://pytorch.org/docs/stable/tensors.html). "
      ]
    },
    {
      "cell_type": "code",
      "metadata": {
        "id": "Bd6WkzJ4hpYi",
        "colab_type": "code",
        "outputId": "18b13778-e372-44a5-fd93-97c01bbf5173",
        "colab": {
          "base_uri": "https://localhost:8080/",
          "height": 212
        }
      },
      "source": [
        "tensor = torch.zeros(2, 2)\n",
        "print('Tensor with default type: ', tensor)\n",
        "tensor = torch.zeros(2, 2, dtype=torch.float16)\n",
        "print('\\nTensor with 16-bit float: ', tensor)\n",
        "tensor = torch.zeros(2, 2, dtype=torch.int16)\n",
        "print('\\nTensor with integers: ', tensor)\n",
        "tensor = torch.zeros(2, 2, dtype=torch.bool)\n",
        "print('\\nTensor with boolean data: ', tensor)"
      ],
      "execution_count": 10,
      "outputs": [
        {
          "output_type": "stream",
          "text": [
            "Tensor with default type:  tensor([[0., 0.],\n",
            "        [0., 0.]])\n",
            "\n",
            "Tensor with 16-bit float:  tensor([[0., 0.],\n",
            "        [0., 0.]], dtype=torch.float16)\n",
            "\n",
            "Tensor with integers:  tensor([[0, 0],\n",
            "        [0, 0]], dtype=torch.int16)\n",
            "\n",
            "Tensor with boolean data:  tensor([[False, False],\n",
            "        [False, False]])\n"
          ],
          "name": "stdout"
        }
      ]
    },
    {
      "cell_type": "code",
      "metadata": {
        "id": "ZWoWOQ5v_Ay9",
        "colab_type": "code",
        "colab": {
          "base_uri": "https://localhost:8080/",
          "height": 194
        },
        "outputId": "5a16dc7f-525f-4cbe-bc8c-4ba7a47d3948"
      },
      "source": [
        "tensor = torch.tensor([[1,1]],dtype=torch.float16)\n",
        "num = tensor.numpy()\n",
        "print(\"tensor=\", tensor)\n",
        "print(\"num=\", num)\n",
        "\n",
        "num = num * 0.5\n",
        "print(\"\\n\\ntensor=\", tensor)\n",
        "print(\"num=\", num)\n",
        "\n",
        "tensor[0,0] = 55\n",
        "print(\"\\n\\ntensor=\", tensor)\n",
        "print(\"num=\", num)"
      ],
      "execution_count": 29,
      "outputs": [
        {
          "output_type": "stream",
          "text": [
            "tensor= tensor([[1., 1.]], dtype=torch.float16)\n",
            "num= [[1. 1.]]\n",
            "\n",
            "\n",
            "tensor= tensor([[1., 1.]], dtype=torch.float16)\n",
            "num= [[0.5 0.5]]\n",
            "\n",
            "\n",
            "tensor= tensor([[55.,  1.]], dtype=torch.float16)\n",
            "num= [[0.5 0.5]]\n"
          ],
          "name": "stdout"
        }
      ]
    },
    {
      "cell_type": "markdown",
      "metadata": {
        "id": "a9F4Dkdr40TE",
        "colab_type": "text"
      },
      "source": [
        "\n",
        "\n",
        "---\n",
        "\n",
        "\n",
        "## Question 4:\n",
        "We saw above that some times numpy and tensors share same storage and changing one changes the other. \n",
        "If we define a rank-2-tensor with ones (dtype of f16), and then convert it into a numpy data type using tensor.numpy() and store it in a variable called \"num\", and then we perform this operation `num = num * 0.5`, will the original tensor have 1.0s or 0.5s as its element values? \n",
        "\n",
        "### *It will have 1.0s*\n"
      ]
    },
    {
      "cell_type": "code",
      "metadata": {
        "id": "aoEECdj2E2yR",
        "colab_type": "code",
        "colab": {
          "base_uri": "https://localhost:8080/",
          "height": 194
        },
        "outputId": "2a90ad8b-3f08-426b-b27a-e219899f2076"
      },
      "source": [
        "tensor = torch.tensor([[1,1]],dtype=torch.float16)\n",
        "num = tensor.numpy()\n",
        "print(\"tensor=\", tensor)\n",
        "print(\"num=\", num)\n",
        "\n",
        "num[:] = num*5 \n",
        "print(\"\\n\\ntensor=\", tensor)\n",
        "print(\"num=\", num)\n",
        "\n",
        "tensor[0,0] = 55\n",
        "print(\"\\n\\ntensor=\", tensor)\n",
        "print(\"num=\", num)"
      ],
      "execution_count": 30,
      "outputs": [
        {
          "output_type": "stream",
          "text": [
            "tensor= tensor([[1., 1.]], dtype=torch.float16)\n",
            "num= [[1. 1.]]\n",
            "\n",
            "\n",
            "tensor= tensor([[5., 5.]], dtype=torch.float16)\n",
            "num= [[5. 5.]]\n",
            "\n",
            "\n",
            "tensor= tensor([[55.,  5.]], dtype=torch.float16)\n",
            "num= [[55.  5.]]\n"
          ],
          "name": "stdout"
        }
      ]
    },
    {
      "cell_type": "markdown",
      "metadata": {
        "id": "OiQt8Mmm51OE",
        "colab_type": "text"
      },
      "source": [
        "\n",
        "\n",
        "---\n",
        "\n",
        "## Question 5: \n",
        "If the operation `num = num*5` is changed to `num[:] = num*5` will the original tensor have 1.0s or 0.5s as its element values? \n",
        "\n",
        "### *It will have 0.5s as its element values*\n",
        "\n",
        "\n",
        "---\n",
        "\n"
      ]
    },
    {
      "cell_type": "markdown",
      "metadata": {
        "id": "vzh8UB8KiVmb",
        "colab_type": "text"
      },
      "source": [
        "## Indexing\n",
        "\n",
        "Tensor provides access to its elements via the same `[]` operation as a regular python list or NumPy array. However, as you may recall from NumPy usage, the full power of math libraries is accessible only via vectorized operations, i.e. operations without explicit looping over all vector elements in python and using implicit optimized loops in C/C++/CUDA/Fortran/etc. available via special function calls. Pytorch employs the same paradigm and provides a wide range of vectorized operations. Let's take a look at some examples. \n",
        "\n",
        "Joining a list of tensors together with `torch.cat`"
      ]
    },
    {
      "cell_type": "code",
      "metadata": {
        "id": "GMaCDKPhiUAb",
        "colab_type": "code",
        "outputId": "13d90db9-ea88-4231-d54f-39e203b22436",
        "colab": {
          "base_uri": "https://localhost:8080/",
          "height": 123
        }
      },
      "source": [
        "a = torch.zeros(3, 2)\n",
        "b = torch.ones(3, 2)\n",
        "print(torch.cat((a, b), dim=0))"
      ],
      "execution_count": 31,
      "outputs": [
        {
          "output_type": "stream",
          "text": [
            "tensor([[0., 0.],\n",
            "        [0., 0.],\n",
            "        [0., 0.],\n",
            "        [1., 1.],\n",
            "        [1., 1.],\n",
            "        [1., 1.]])\n"
          ],
          "name": "stdout"
        }
      ]
    },
    {
      "cell_type": "code",
      "metadata": {
        "id": "h89Gu5SMFeh9",
        "colab_type": "code",
        "colab": {
          "base_uri": "https://localhost:8080/",
          "height": 318
        },
        "outputId": "f8958fa2-db0f-4799-aa1d-2c7e3e0bdee4"
      },
      "source": [
        "a = torch.zeros(3, 2)\n",
        "b = torch.ones(3, 2)\n",
        "print(torch.cat((a, b), dim=0))\n",
        "print(torch.cat((a, b), dim=0).transpose(0,1))\n",
        "\n",
        "\n",
        "a = torch.zeros(3, 2)\n",
        "b = torch.ones(3, 2)\n",
        "print(\"\\n\\n\", torch.cat((a, b), dim=1))\n",
        "print(torch.cat((a, b), dim=1).transpose(0,1))"
      ],
      "execution_count": 33,
      "outputs": [
        {
          "output_type": "stream",
          "text": [
            "tensor([[0., 0.],\n",
            "        [0., 0.],\n",
            "        [0., 0.],\n",
            "        [1., 1.],\n",
            "        [1., 1.],\n",
            "        [1., 1.]])\n",
            "tensor([[0., 0., 0., 1., 1., 1.],\n",
            "        [0., 0., 0., 1., 1., 1.]])\n",
            "\n",
            "\n",
            " tensor([[0., 0., 1., 1.],\n",
            "        [0., 0., 1., 1.],\n",
            "        [0., 0., 1., 1.]])\n",
            "tensor([[0., 0., 0.],\n",
            "        [0., 0., 0.],\n",
            "        [1., 1., 1.],\n",
            "        [1., 1., 1.]])\n"
          ],
          "name": "stdout"
        }
      ]
    },
    {
      "cell_type": "markdown",
      "metadata": {
        "id": "5bj4aeE86zdH",
        "colab_type": "text"
      },
      "source": [
        "\n",
        "\n",
        "---\n",
        "\n",
        "## Question 6: \n",
        "Is the transpose of concatenated a & b tensor on dimension 1, same as the contatenated tensor of a & b on dimension 0? \n",
        "\n",
        "### *NO, they are not same.*\n",
        "\n",
        "---\n",
        "\n"
      ]
    },
    {
      "cell_type": "markdown",
      "metadata": {
        "id": "0TXNne69j7LP",
        "colab_type": "text"
      },
      "source": [
        "Indexing with another tenxor/array:"
      ]
    },
    {
      "cell_type": "code",
      "metadata": {
        "id": "KiE-Fsi4jVd6",
        "colab_type": "code",
        "outputId": "4d01572b-796b-4eaa-a526-9cf87bd12068",
        "colab": {
          "base_uri": "https://localhost:8080/",
          "height": 105
        }
      },
      "source": [
        "a = torch.arange(start=0, end=10)\n",
        "indices = np.arange(0, 10) > 5\n",
        "print(a)\n",
        "print(indices)\n",
        "print(a[indices])\n",
        "\n",
        "indices = torch.arange(start=0, end=10) %5\n",
        "print(indices)\n",
        "print(a[indices])"
      ],
      "execution_count": 34,
      "outputs": [
        {
          "output_type": "stream",
          "text": [
            "tensor([0, 1, 2, 3, 4, 5, 6, 7, 8, 9])\n",
            "[False False False False False False  True  True  True  True]\n",
            "tensor([6, 7, 8, 9])\n",
            "tensor([0, 1, 2, 3, 4, 0, 1, 2, 3, 4])\n",
            "tensor([0, 1, 2, 3, 4, 0, 1, 2, 3, 4])\n"
          ],
          "name": "stdout"
        }
      ]
    },
    {
      "cell_type": "code",
      "metadata": {
        "id": "UCif-BqwKUkO",
        "colab_type": "code",
        "colab": {
          "base_uri": "https://localhost:8080/",
          "height": 194
        },
        "outputId": "38b55d76-2ba1-431f-fb88-46385be2710a"
      },
      "source": [
        "m = 5\n",
        "\n",
        "a = torch.arange(start=0, end=10)\n",
        "indices = torch.arange(start=0, end=10) %m\n",
        "b = a[indices[-5:]]\n",
        "\n",
        "print(a)\n",
        "print(indices[-5:])\n",
        "print(a[indices[-5:]])\n",
        "print(b)\n",
        "\n",
        "####################\n",
        "\n",
        "a = torch.arange(start=0, end=10)\n",
        "indices = torch.arange(start=1, end=11) %m\n",
        "b = a[indices[-5:]]\n",
        "\n",
        "print(\"\\n\\n\", a)\n",
        "print(indices[-5:])\n",
        "print(a[indices[-5:]])\n",
        "print(b)"
      ],
      "execution_count": 46,
      "outputs": [
        {
          "output_type": "stream",
          "text": [
            "tensor([0, 1, 2, 3, 4, 5, 6, 7, 8, 9])\n",
            "tensor([0, 1, 2, 3, 4])\n",
            "tensor([0, 1, 2, 3, 4])\n",
            "tensor([0, 1, 2, 3, 4])\n",
            "\n",
            "\n",
            " tensor([0, 1, 2, 3, 4, 5, 6, 7, 8, 9])\n",
            "tensor([1, 2, 3, 4, 0])\n",
            "tensor([1, 2, 3, 4, 0])\n",
            "tensor([1, 2, 3, 4, 0])\n"
          ],
          "name": "stdout"
        }
      ]
    },
    {
      "cell_type": "markdown",
      "metadata": {
        "id": "LS4dnlu47WQu",
        "colab_type": "text"
      },
      "source": [
        "\n",
        "\n",
        "---\n",
        "\n",
        "## Question 7:\n",
        "\n",
        "`a` is defined as `torch.arange(start=0, end=10)`. We will create `b` using the two operations as below. In both cases do we get the same value?\n",
        "\n",
        "\n",
        "1.   indices variable created by the modulo operation on arange between 0 and 10. Then a new varialble `b` is created from `a` using the last 5 elements of indices. \n",
        "2.   indices variable created by the modulo operation on arange betwenn 1 and 11. Then a new varialble `b` is created from `a` using the last 5 elements of indices. \n",
        "\n",
        "### *No, we don't get the same value.*\n",
        "\n",
        "---\n",
        "\n",
        "\n"
      ]
    },
    {
      "cell_type": "markdown",
      "metadata": {
        "id": "eQ4ZCVsTk-KH",
        "colab_type": "text"
      },
      "source": [
        "What should we do if we have, say, rank-2-tensor and want to select only some rows?"
      ]
    },
    {
      "cell_type": "code",
      "metadata": {
        "id": "_GtRpotjkt1q",
        "colab_type": "code",
        "outputId": "dc160585-6421-487e-faa8-ee1ff58d8256",
        "colab": {
          "base_uri": "https://localhost:8080/",
          "height": 141
        }
      },
      "source": [
        "tensor = torch.rand((5, 3))\n",
        "rows = torch.tensor([0, 2])\n",
        "print(tensor)\n",
        "tensor[rows]"
      ],
      "execution_count": 47,
      "outputs": [
        {
          "output_type": "stream",
          "text": [
            "tensor([[0.6205, 0.1391, 0.3761],\n",
            "        [0.3599, 0.9615, 0.1220],\n",
            "        [0.0039, 0.6542, 0.6633],\n",
            "        [0.6392, 0.8549, 0.6017],\n",
            "        [0.1112, 0.4981, 0.8714]])\n"
          ],
          "name": "stdout"
        },
        {
          "output_type": "execute_result",
          "data": {
            "text/plain": [
              "tensor([[0.6205, 0.1391, 0.3761],\n",
              "        [0.0039, 0.6542, 0.6633]])"
            ]
          },
          "metadata": {
            "tags": []
          },
          "execution_count": 47
        }
      ]
    },
    {
      "cell_type": "code",
      "metadata": {
        "id": "j6xOKQExMTxf",
        "colab_type": "code",
        "colab": {
          "base_uri": "https://localhost:8080/",
          "height": 123
        },
        "outputId": "3937b06d-3fe1-401a-c2be-b2d909c241b3"
      },
      "source": [
        "tensor = torch.rand((5, 3))\n",
        "\n",
        "tensor1 = tensor[torch.tensor([0, 2, 4])]\n",
        "\n",
        "tensor2 = torch.transpose(     tensor[torch.tensor([0, 2, 4])],     0, 1)\n",
        "\n",
        "print(tensor1)\n",
        "print(tensor2)"
      ],
      "execution_count": 48,
      "outputs": [
        {
          "output_type": "stream",
          "text": [
            "tensor([[0.0036, 0.2853, 0.0604],\n",
            "        [0.7004, 0.8170, 0.4397],\n",
            "        [0.4756, 0.3994, 0.8818]])\n",
            "tensor([[0.0036, 0.7004, 0.4756],\n",
            "        [0.2853, 0.8170, 0.3994],\n",
            "        [0.0604, 0.4397, 0.8818]])\n"
          ],
          "name": "stdout"
        }
      ]
    },
    {
      "cell_type": "markdown",
      "metadata": {
        "id": "zIJnr_N2_Qaf",
        "colab_type": "text"
      },
      "source": [
        "\n",
        "\n",
        "---\n",
        "\n",
        "## Question 8: \n",
        "\n",
        "Consider a tensor defined as `torch.rand((6, 5))`. Is the shape of the new tensor created by taking the 0th, 2nd and 4th row of the old tensor same as the shape of the a newer tensor created by taking the 0th, 2nd and 4th row of the old tensor after transposing it by operation `torch.transpose(tensor, 0, 1)` ?\n",
        "\n",
        "### *Yes, the shape are same.*\n",
        "\n",
        "---\n",
        "\n",
        "\n"
      ]
    },
    {
      "cell_type": "markdown",
      "metadata": {
        "id": "naDzFMkslU0b",
        "colab_type": "text"
      },
      "source": [
        "## Tensor Shapes\n",
        "\n",
        "Reshaping a tensor is a frequently used operation. We can change the shape of a tensor without the memory copying overhead. There are two methods for that: `reshape` and `view`. \n",
        "\n",
        "The difference is the following: \n",
        "\n",
        "\n",
        "*   view tries to return a tensor, and it shares the same memory with the original tensor. In case, if it cannot reuse the same memory due to [some reason](https://pytorch.org/docs/stable/tensors.html?highlight=view#torch.Tensor.view), it just fails. \n",
        "*   reshape always returns the tensor with the desired shape and tries to reuse the memory. If it cannot, it creates a copy\n",
        "\n",
        "Let's see with the help of an example:"
      ]
    },
    {
      "cell_type": "code",
      "metadata": {
        "id": "HClDkqLLlMJh",
        "colab_type": "code",
        "outputId": "64ce3f7b-4334-49c2-d5b3-3a795a8fff45",
        "colab": {
          "base_uri": "https://localhost:8080/",
          "height": 247
        }
      },
      "source": [
        "tensor = torch.rand(2, 3, 4)\n",
        "print('Pointer to data: ', tensor.data_ptr())\n",
        "print('Shape: ', tensor.shape)\n",
        "\n",
        "reshaped = tensor.reshape(24)\n",
        "\n",
        "view = tensor.view(3, 2, 4)\n",
        "print('Reshaped tensor - pointer to data', reshaped.data_ptr())\n",
        "print('Reshaped tensor shape ', reshaped.shape)\n",
        "\n",
        "print('\\n\\nViewed tensor - pointer to data', view.data_ptr())\n",
        "print('Viewed tensor shape ', view.shape)\n",
        "\n",
        "assert tensor.data_ptr() == view.data_ptr()\n",
        "\n",
        "assert np.all(np.equal(tensor.numpy().flat, reshaped.numpy().flat))\n",
        "\n",
        "print('\\n\\nOriginal stride: ', tensor.stride())\n",
        "print('Reshaped stride: ', reshaped.stride())\n",
        "print('Viewed stride: ', view.stride())"
      ],
      "execution_count": 50,
      "outputs": [
        {
          "output_type": "stream",
          "text": [
            "Pointer to data:  86111488\n",
            "Shape:  torch.Size([2, 3, 4])\n",
            "Reshaped tensor - pointer to data 86111488\n",
            "Reshaped tensor shape  torch.Size([24])\n",
            "\n",
            "\n",
            "Viewed tensor - pointer to data 86111488\n",
            "Viewed tensor shape  torch.Size([3, 2, 4])\n",
            "\n",
            "\n",
            "Original stride:  (12, 4, 1)\n",
            "Reshaped stride:  (1,)\n",
            "Viewed stride:  (8, 4, 1)\n"
          ],
          "name": "stdout"
        }
      ]
    },
    {
      "cell_type": "markdown",
      "metadata": {
        "id": "jIN5jSppm4yC",
        "colab_type": "text"
      },
      "source": [
        "The basic rule about reshaping the tensor is definitely that you cannot change the total number of elements in it, so the product of all tensor's dimensions should always be the same. It gives us the ability to avoid specifying one dimension when reshaping the tensor - Pytorch can calculate it for us:"
      ]
    },
    {
      "cell_type": "code",
      "metadata": {
        "id": "e3D19ERFmzOl",
        "colab_type": "code",
        "outputId": "cad0e3c6-5e99-49ff-d314-4add70a2ef5b",
        "colab": {
          "base_uri": "https://localhost:8080/",
          "height": 87
        }
      },
      "source": [
        "print(tensor.reshape(3, 2, 4).shape)\n",
        "print(tensor.reshape(3, 2, -1).shape)\n",
        "print(tensor.reshape(3, -1, 4).shape)\n",
        "print(tensor.reshape(-1, 2, 4).shape)"
      ],
      "execution_count": 52,
      "outputs": [
        {
          "output_type": "stream",
          "text": [
            "torch.Size([3, 2, 4])\n",
            "torch.Size([3, 2, 4])\n",
            "torch.Size([3, 2, 4])\n",
            "torch.Size([3, 2, 4])\n"
          ],
          "name": "stdout"
        }
      ]
    },
    {
      "cell_type": "code",
      "metadata": {
        "id": "nBNyiwhURXkm",
        "colab_type": "code",
        "colab": {
          "base_uri": "https://localhost:8080/",
          "height": 336
        },
        "outputId": "88337fa7-f204-4958-9d39-9e4c12347b37"
      },
      "source": [
        "numpy_array = np.array([[1,2,3], [1,2,3]])\n",
        "tensor_from_array = torch.tensor(numpy_array)\n",
        "print(tensor_from_array)\n",
        "a = tensor_from_array.reshape(-1, 2)\n",
        "print(a)\n",
        "\n",
        "numpy_array = np.array([[2, 1]])\n",
        "tensor_from_array = torch.tensor(numpy_array)\n",
        "print(\"\\n\\n\", tensor_from_array)\n",
        "b=tensor_from_array.view(2, -1)\n",
        "print(b)\n",
        "\n",
        "print(\"\\n\\n\", torch.mm(a, b))\n",
        "\n",
        "print(\"\\n\\n\", torch.sum(torch.mm(a, b)))"
      ],
      "execution_count": 57,
      "outputs": [
        {
          "output_type": "stream",
          "text": [
            "tensor([[1, 2, 3],\n",
            "        [1, 2, 3]])\n",
            "tensor([[1, 2],\n",
            "        [3, 1],\n",
            "        [2, 3]])\n",
            "\n",
            "\n",
            " tensor([[2, 1]])\n",
            "tensor([[2],\n",
            "        [1]])\n",
            "\n",
            "\n",
            " tensor([[4],\n",
            "        [7],\n",
            "        [7]])\n",
            "\n",
            "\n",
            " tensor(18)\n"
          ],
          "name": "stdout"
        }
      ]
    },
    {
      "cell_type": "markdown",
      "metadata": {
        "id": "ObgCQKUiETak",
        "colab_type": "text"
      },
      "source": [
        "\n",
        "\n",
        "---\n",
        "\n",
        "\n",
        "## Question 9:\n",
        "\n",
        "Consider a tensor `a` created with [1, 2, 3] and [1, 2, 3] of size (2, 3) is reshaped with operation `.reshape(-1, 2)`. Also consider a tensor `b` created with [[2, 1]] and of size (1, 2), later operated with `view(2, -1)` operation. \n",
        "\n",
        "If we do a dot product of a and b (using `torch.mm`) and perform the sum of all the elements (using `torch.sum`) what do we get? (enter int value without any decimal point in the quiz)\n",
        "\n",
        "### *18*\n",
        "\n",
        "---\n",
        "\n"
      ]
    },
    {
      "cell_type": "markdown",
      "metadata": {
        "id": "mza7QPg3ndeV",
        "colab_type": "text"
      },
      "source": [
        "**Alternative ways to view tensors** - `expand` or `expand_as`.\n",
        "\n",
        "\n",
        "\n",
        "*   `expand` - requires the desired shape as an input\n",
        "*   `expand_as` - uses the shape of another tensor\n",
        "\n",
        "These operations \"repeat\" tensor's values along the specified axes without actually copying the data. \n",
        "\n",
        "As the documentation says, expand:\n",
        "\n",
        "\n",
        "> returns a new view of the self tensor with singleton dimensions expanded to a larger size. Tensor can be also expanded to a larger number of dimensions, and the new ones will be appended at the front. For the new dimensions, the size cannot be set to -1. \n",
        "\n",
        "**Use case:**\n",
        "\n",
        "\n",
        "\n",
        "*   index multi-channel tensor with single-channel mask - imagine a color image with 3 channels (RGB) and binary mask for the area of interest on that image. We cannot index the image with this kind of mask directly since the dimensions are different, but we can use `expand_as` operation to create a view of the mask that has the same dimensions as the image we want to apply it to, but has not copied the data. "
      ]
    },
    {
      "cell_type": "code",
      "metadata": {
        "id": "iz33E-V7nPQT",
        "colab_type": "code",
        "outputId": "ec751ac8-e038-498f-e463-36a3d536093c",
        "colab": {
          "base_uri": "https://localhost:8080/",
          "height": 595
        }
      },
      "source": [
        "%matplotlib inline\n",
        "from matplotlib import pyplot as plt\n",
        "\n",
        "# Create a black image\n",
        "image = torch.zeros(size=(3, 256, 256), dtype=torch.int)\n",
        "\n",
        "# Leave the borders and make the rest of the image Green\n",
        "image[1, 18:256 - 18, 18:256 - 18] = 255\n",
        "\n",
        "# Create a mask of the same size\n",
        "mask = torch.zeros(size=(256, 256), dtype=torch.bool)\n",
        "\n",
        "# Assuming the green region in the original image is the Region of interest, change the mask to white for that area\n",
        "mask[18:256 - 18, 18:256 - 18] = 1\n",
        "\n",
        "# Create a view of the mask with the same dimensions as the original image\n",
        "mask_expanded = mask.expand_as(image)\n",
        "print(mask_expanded.shape)\n",
        "\n",
        "mask_np = mask_expanded.numpy().transpose(1, 2, 0) * 255\n",
        "image_np = image.numpy().transpose(1, 2, 0)\n",
        "\n",
        "fig, ax = plt.subplots(1, 2)\n",
        "ax[0].imshow(image_np)\n",
        "ax[1].imshow(mask_np)\n",
        "plt.show()\n",
        "\n",
        "image[0, mask] += 128\n",
        "fig, ax = plt.subplots(1, 2)\n",
        "ax[0].imshow(image_np)\n",
        "ax[1].imshow(mask_np)\n",
        "plt.show()\n",
        "\n",
        "image[mask_expanded] += 128\n",
        "image.clamp_(0, 255)\n",
        "fig, ax = plt.subplots(1, 2)\n",
        "ax[0].imshow(image_np)\n",
        "ax[1].imshow(mask_np)\n",
        "plt.show()"
      ],
      "execution_count": 15,
      "outputs": [
        {
          "output_type": "stream",
          "text": [
            "torch.Size([3, 256, 256])\n"
          ],
          "name": "stdout"
        },
        {
          "output_type": "display_data",
          "data": {
            "image/png": "[encoded data removed]",
            "text/plain": [
              "<Figure size 432x288 with 2 Axes>"
            ]
          },
          "metadata": {
            "tags": []
          }
        },
        {
          "output_type": "display_data",
          "data": {
            "image/png": "[encoded data removed]",
            "text/plain": [
              "<Figure size 432x288 with 2 Axes>"
            ]
          },
          "metadata": {
            "tags": []
          }
        },
        {
          "output_type": "display_data",
          "data": {
            "image/png": "[encoded data removed]",
            "text/plain": [
              "<Figure size 432x288 with 2 Axes>"
            ]
          },
          "metadata": {
            "tags": []
          }
        }
      ]
    },
    {
      "cell_type": "markdown",
      "metadata": {
        "id": "jiXBx0k3ptOI",
        "colab_type": "text"
      },
      "source": [
        "In the example above, one can also find a couple of useful tricks:\n",
        "\n",
        "\n",
        "*   `clamp` method and function is a Pytorch's analogue of NumPy's `clip` function\n",
        "*   many operations on tensors have in-place form, that does not return modified data, but change values in the tensor. The in-place version of the operation has trailing underscore according to Pytorch's naming convension - in the exmaple above it is `clamp_`\n",
        "*   tensors have the same indexing as Numpy's arrays - one can use `:` seperated range, negative indexes and so on.\n",
        "\n",
        "\n",
        ".\n",
        "\n",
        "\n",
        "---\n",
        "\n",
        "# Images and their representations\n",
        "\n",
        "Now, let's discuss images, their representations and how different Python librarties work with them. \n",
        "\n",
        "Probably, the most well-known library for image loading and simple processing is [Pillow](https://pillow.readthedocs.io/en/stable/). \n",
        "\n",
        "However, many people in deep learning area stick with OpenCV for image loading and processing with some usage of another libraries when it is justified by performance/functionality. This is because OpenCV is in general much faster than the other libraries. Here you can find a couple of benchmarks: \n",
        "\n",
        "*   https://www.kaggle.com/zfturbo/benchmark-2019-speed-of-image-reading\n",
        "*   https://github.com/albumentations-team/albumentations#benchmarking-results\n",
        "\n",
        "To sum up the benchmarks above, there are two most common image formats, PNG and JPEGs. If your data is in PNG format - use OpenCV to read it. If it is in JPEG - use libturbojpeg. For image processing, use OpenCV if possible. _We will be using PIL a lot along with these._\n",
        "\n",
        "As you will read the code from others, you may find out that some of them use Pillow/something else to read data. You should know, that color image representations in OpenCV and other libraries are different - OpenCV uses \"BGR\" channel order, while others use \"RGB\" one. \n",
        "\n",
        "To change \"BRG\" <-> \"RGB\" the only thing we need to do it to change channel order."
      ]
    },
    {
      "cell_type": "code",
      "metadata": {
        "id": "V0w5XN6NjcAb",
        "colab_type": "code",
        "colab": {
          "base_uri": "https://localhost:8080/",
          "height": 212
        },
        "outputId": "61f206d8-728c-4aad-bcaa-b1e3e261a071"
      },
      "source": [
        "!wget https://encrypted-tbn0.gstatic.com/images?q=tbn%3AANd9GcRCA40ftnscVzfV8ft8e7vIzQXfXeZdtco8nknJrfCUW6INI40U -O mars.jpg"
      ],
      "execution_count": 5,
      "outputs": [
        {
          "output_type": "stream",
          "text": [
            "--2020-02-11 14:03:46--  https://encrypted-tbn0.gstatic.com/images?q=tbn%3AANd9GcRCA40ftnscVzfV8ft8e7vIzQXfXeZdtco8nknJrfCUW6INI40U\n",
            "Resolving encrypted-tbn0.gstatic.com (encrypted-tbn0.gstatic.com)... 108.177.112.113, 108.177.112.138, 108.177.112.100, ...\n",
            "Connecting to encrypted-tbn0.gstatic.com (encrypted-tbn0.gstatic.com)|108.177.112.113|:443... connected.\n",
            "HTTP request sent, awaiting response... 200 OK\n",
            "Length: 18915 (18K) [image/jpeg]\n",
            "Saving to: ‘mars.jpg’\n",
            "\n",
            "\rmars.jpg              0%[                    ]       0  --.-KB/s               \rmars.jpg            100%[===================>]  18.47K  --.-KB/s    in 0s      \n",
            "\n",
            "2020-02-11 14:03:46 (122 MB/s) - ‘mars.jpg’ saved [18915/18915]\n",
            "\n"
          ],
          "name": "stdout"
        }
      ]
    },
    {
      "cell_type": "code",
      "metadata": {
        "id": "ZYv4sZMmpndu",
        "colab_type": "code",
        "outputId": "3b6c0576-8713-46f9-ead1-b3184711e8df",
        "colab": {
          "base_uri": "https://localhost:8080/",
          "height": 152
        }
      },
      "source": [
        "%matplotlib inline\n",
        "from matplotlib import pyplot as plt\n",
        "import cv2\n",
        "\n",
        "\n",
        "bgr_image = cv2.imread('mars.jpg') \n",
        "# remember to add your own image in case you run this block, if you want to use the same image, \n",
        "# download it from: https://encrypted-tbn0.gstatic.com/images?q=tbn%3AANd9GcRCA40ftnscVzfV8ft8e7vIzQXfXeZdtco8nknJrfCUW6INI40U\n",
        "rgb_image = bgr_image[..., ::-1]\n",
        "fig, ax = plt.subplots(1, 2)\n",
        "ax[0].imshow(bgr_image)\n",
        "ax[1].imshow(rgb_image)\n",
        "plt.show()"
      ],
      "execution_count": 6,
      "outputs": [
        {
          "output_type": "display_data",
          "data": {
            "image/png": "[encoded data removed]",
            "text/plain": [
              "<Figure size 432x288 with 2 Axes>"
            ]
          },
          "metadata": {
            "tags": []
          }
        }
      ]
    },
    {
      "cell_type": "code",
      "metadata": {
        "id": "sTN3iytDl4OY",
        "colab_type": "code",
        "colab": {
          "base_uri": "https://localhost:8080/",
          "height": 34
        },
        "outputId": "a5586352-9c92-480d-e24d-d75414897be0"
      },
      "source": [
        "bgr_image.shape"
      ],
      "execution_count": 8,
      "outputs": [
        {
          "output_type": "execute_result",
          "data": {
            "text/plain": [
              "(450, 682, 3)"
            ]
          },
          "metadata": {
            "tags": []
          },
          "execution_count": 8
        }
      ]
    },
    {
      "cell_type": "code",
      "metadata": {
        "id": "qTTcbsX8l_XC",
        "colab_type": "code",
        "colab": {
          "base_uri": "https://localhost:8080/",
          "height": 34
        },
        "outputId": "97563557-8562-46a5-ce3d-76b4033dfe54"
      },
      "source": [
        "rgb_image.shape"
      ],
      "execution_count": 9,
      "outputs": [
        {
          "output_type": "execute_result",
          "data": {
            "text/plain": [
              "(450, 682, 3)"
            ]
          },
          "metadata": {
            "tags": []
          },
          "execution_count": 9
        }
      ]
    },
    {
      "cell_type": "code",
      "metadata": {
        "id": "ca24t2VEmDf1",
        "colab_type": "code",
        "colab": {
          "base_uri": "https://localhost:8080/",
          "height": 532
        },
        "outputId": "80b328c5-0008-48de-93b2-cc61a42148bd"
      },
      "source": [
        "bgr_image[200:205, 300:305, :]"
      ],
      "execution_count": 11,
      "outputs": [
        {
          "output_type": "execute_result",
          "data": {
            "text/plain": [
              "array([[[  0, 122, 229],\n",
              "        [  0, 126, 230],\n",
              "        [  0, 129, 233],\n",
              "        [  4, 128, 236],\n",
              "        [ 26, 134, 252]],\n",
              "\n",
              "       [[  0, 117, 224],\n",
              "        [  0, 126, 229],\n",
              "        [  1, 142, 245],\n",
              "        [ 19, 150, 255],\n",
              "        [ 23, 135, 255]],\n",
              "\n",
              "       [[ 18, 145, 254],\n",
              "        [ 19, 154, 255],\n",
              "        [  2, 142, 249],\n",
              "        [  0, 119, 230],\n",
              "        [  0, 108, 229]],\n",
              "\n",
              "       [[ 15, 134, 249],\n",
              "        [  3, 128, 242],\n",
              "        [  0, 116, 227],\n",
              "        [  0, 102, 217],\n",
              "        [  0,  89, 214]],\n",
              "\n",
              "       [[  0,  94, 215],\n",
              "        [  0,  90, 211],\n",
              "        [  0,  91, 211],\n",
              "        [  0,  94, 217],\n",
              "        [  0,  82, 210]]], dtype=uint8)"
            ]
          },
          "metadata": {
            "tags": []
          },
          "execution_count": 11
        }
      ]
    },
    {
      "cell_type": "code",
      "metadata": {
        "id": "iZ-0nJlqmZUD",
        "colab_type": "code",
        "colab": {
          "base_uri": "https://localhost:8080/",
          "height": 532
        },
        "outputId": "49917a66-d811-4b5d-9cf2-f62d4163bfd9"
      },
      "source": [
        "rgb_image[200:205, 300:305, :]"
      ],
      "execution_count": 12,
      "outputs": [
        {
          "output_type": "execute_result",
          "data": {
            "text/plain": [
              "array([[[229, 122,   0],\n",
              "        [230, 126,   0],\n",
              "        [233, 129,   0],\n",
              "        [236, 128,   4],\n",
              "        [252, 134,  26]],\n",
              "\n",
              "       [[224, 117,   0],\n",
              "        [229, 126,   0],\n",
              "        [245, 142,   1],\n",
              "        [255, 150,  19],\n",
              "        [255, 135,  23]],\n",
              "\n",
              "       [[254, 145,  18],\n",
              "        [255, 154,  19],\n",
              "        [249, 142,   2],\n",
              "        [230, 119,   0],\n",
              "        [229, 108,   0]],\n",
              "\n",
              "       [[249, 134,  15],\n",
              "        [242, 128,   3],\n",
              "        [227, 116,   0],\n",
              "        [217, 102,   0],\n",
              "        [214,  89,   0]],\n",
              "\n",
              "       [[215,  94,   0],\n",
              "        [211,  90,   0],\n",
              "        [211,  91,   0],\n",
              "        [217,  94,   0],\n",
              "        [210,  82,   0]]], dtype=uint8)"
            ]
          },
          "metadata": {
            "tags": []
          },
          "execution_count": 12
        }
      ]
    },
    {
      "cell_type": "markdown",
      "metadata": {
        "id": "yoi4TeNBGHle",
        "colab_type": "text"
      },
      "source": [
        "\n",
        "\n",
        "---\n",
        "\n",
        "## Question 10:\n",
        "\n",
        "Looking at the results above it can be said that the pixel values in the blue channels would be very small compared to red channel. True/False?\n",
        "\n",
        "### *TRUE*\n",
        "\n",
        "---\n",
        "\n",
        "\n"
      ]
    },
    {
      "cell_type": "markdown",
      "metadata": {
        "id": "b3ugFd57zNwa",
        "colab_type": "text"
      },
      "source": [
        "# Autograd\n",
        "\n",
        "Pytorch supports automatic differentiation. The module which implements this is called **AutoGrad**. It calculates the gradients and keeps track in forward and backward passes. For primitive tensors, you need to enable or disable it using the `required_grad` flag. But, for advanced tensors, it is enabled by default"
      ]
    },
    {
      "cell_type": "code",
      "metadata": {
        "id": "VMOp4aiou6JR",
        "colab_type": "code",
        "outputId": "ed964659-8b7b-42b8-c9fe-b0cf30be7629",
        "colab": {
          "base_uri": "https://localhost:8080/",
          "height": 194
        }
      },
      "source": [
        "a = torch.rand((3, 5), requires_grad = True)\n",
        "print(a)\n",
        "result = a * 5\n",
        "print(result)\n",
        "\n",
        "# grad can be implicitly created only for scalar outputs\n",
        "# so let's calculate the sum here so that the output becomes a scalar and we can apply a backward pass\n",
        "mean_result = result.sum()\n",
        "print(mean_result)\n",
        "# calculate gradient\n",
        "mean_result.backward()\n",
        "# print gradient of a\n",
        "print(a.grad)"
      ],
      "execution_count": 29,
      "outputs": [
        {
          "output_type": "stream",
          "text": [
            "tensor([[0.4479, 0.4785, 0.7061, 0.3550, 0.0881],\n",
            "        [0.6347, 0.5215, 0.2819, 0.1979, 0.0239],\n",
            "        [0.4984, 0.4843, 0.7955, 0.2994, 0.9843]], requires_grad=True)\n",
            "tensor([[2.2393, 2.3927, 3.5306, 1.7750, 0.4406],\n",
            "        [3.1737, 2.6075, 1.4097, 0.9896, 0.1195],\n",
            "        [2.4922, 2.4214, 3.9773, 1.4969, 4.9216]], grad_fn=<MulBackward0>)\n",
            "tensor(33.9875, grad_fn=<SumBackward0>)\n",
            "tensor([[5., 5., 5., 5., 5.],\n",
            "        [5., 5., 5., 5., 5.],\n",
            "        [5., 5., 5., 5., 5.]])\n"
          ],
          "name": "stdout"
        }
      ]
    },
    {
      "cell_type": "markdown",
      "metadata": {
        "id": "ym0Amk2IGfLx",
        "colab_type": "text"
      },
      "source": [
        "\n",
        "\n",
        "---\n",
        "\n",
        "## Question 11: \n",
        "\n",
        "Why the gradient of a is all 5s above?\n",
        "\n",
        "### Because we had multiplied all value in a with 5, and when it comes to compute gradient using backward() function, it outputs the gradient values which is 5.\n",
        "\n",
        "---\n",
        "\n"
      ]
    },
    {
      "cell_type": "markdown",
      "metadata": {
        "id": "7PDgGq2R0k7I",
        "colab_type": "text"
      },
      "source": [
        "As we see, Pytorch automagically calculated the gradient value for us. It looks to be the correct value - we multiplied an input by 5, so the gradient of this operation equals to 5.\n",
        "\n",
        "# Disabling Autograd for tensors\n",
        "\n",
        "We don't need to compute gradients for all the variables that are involved in the pipeline. The Pytorch API provides 2 ways to disable autograd.\n",
        "\n",
        "`detach` - returns a copy of the tensor with autograd disabled. This \n",
        "\n",
        "1.   copy is built on the same memory as the original tensor, so in-place size / stride / storage changes (such as resize_ / resizeas / set / transpose) modifications are not allowed.\n",
        "2.   torch.no_grad() - It is a context manager that allows you to guard a series of operations from autograd without creating new tensors."
      ]
    },
    {
      "cell_type": "code",
      "metadata": {
        "id": "yqVG9fQb0cLW",
        "colab_type": "code",
        "outputId": "b58642f3-1427-4f79-f00b-251cabccea49",
        "colab": {
          "base_uri": "https://localhost:8080/",
          "height": 70
        }
      },
      "source": [
        "a = torch.rand((3, 5), requires_grad=True)\n",
        "detached_a = a.detach()\n",
        "detached_result = detached_a * 5\n",
        "result = a * 10\n",
        "# we cannot do backward pass that is required for autograd using multideminsional output,\n",
        "# so let's calculate the sum here\n",
        "mean_result = result.sum()\n",
        "mean_result.backward()\n",
        "a.grad"
      ],
      "execution_count": 17,
      "outputs": [
        {
          "output_type": "execute_result",
          "data": {
            "text/plain": [
              "tensor([[10., 10., 10., 10., 10.],\n",
              "        [10., 10., 10., 10., 10.],\n",
              "        [10., 10., 10., 10., 10.]])"
            ]
          },
          "metadata": {
            "tags": []
          },
          "execution_count": 17
        }
      ]
    },
    {
      "cell_type": "code",
      "metadata": {
        "id": "uqpch2Be02J7",
        "colab_type": "code",
        "outputId": "fdc3fa7c-f1df-460f-e5f6-a9d149103e35",
        "colab": {
          "base_uri": "https://localhost:8080/",
          "height": 70
        }
      },
      "source": [
        "a = torch.rand((3, 5), requires_grad=True)\n",
        "with torch.no_grad():\n",
        "    detached_result = a * 5\n",
        "result = a * 10\n",
        "# we cannot do backward pass that is required for autograd using multideminsional output,\n",
        "# so let's calculate the sum here\n",
        "mean_result = result.sum()\n",
        "mean_result.backward()\n",
        "a.grad"
      ],
      "execution_count": 18,
      "outputs": [
        {
          "output_type": "execute_result",
          "data": {
            "text/plain": [
              "tensor([[10., 10., 10., 10., 10.],\n",
              "        [10., 10., 10., 10., 10.],\n",
              "        [10., 10., 10., 10., 10.]])"
            ]
          },
          "metadata": {
            "tags": []
          },
          "execution_count": 18
        }
      ]
    },
    {
      "cell_type": "markdown",
      "metadata": {
        "id": "vjh2rYOPJUAZ",
        "colab_type": "text"
      },
      "source": [
        "# Custom Network\n",
        "\n",
        "A fully-connected ReLU network with one hidden layer and no biases, trained to predict y from x by minimizing squared Euclidean distance.\n",
        "\n",
        "This implementation uses PyTorch tensors to manually compute the forward pass, loss, and backward pass.\n",
        "\n",
        "A PyTorch Tensor is basically the same as a numpy array: it does not know anything about deep learning or computational graphs or gradients, and is just a generic n-dimensional array to be used for arbitrary numeric computation.\n",
        "\n",
        "The biggest difference between a numpy array and a PyTorch Tensor is that a PyTorch Tensor can run on either CPU or GPU. To run operations on the GPU, just cast the Tensor to a cuda datatype."
      ]
    },
    {
      "cell_type": "code",
      "metadata": {
        "id": "0nf5RaB104Vp",
        "colab_type": "code",
        "outputId": "910d3469-f296-4571-8383-c7b4c8f8781f",
        "colab": {
          "base_uri": "https://localhost:8080/",
          "height": 1000
        }
      },
      "source": [
        "dtype = torch.float\n",
        "device = torch.device(\"cpu\")\n",
        "# device = torch.device(\"cuda:0\") # Uncomment this to run on GPU\n",
        "\n",
        "# N is batch size; D_in is input dimension;\n",
        "# H is hidden dimension; D_out is output dimension.\n",
        "N, D_in, H, D_out = 64, 1000, 100, 10\n",
        "\n",
        "# Create random input and output data\n",
        "x = torch.randn(N, D_in, device=device, dtype=dtype)\n",
        "y = torch.randn(N, D_out, device=device, dtype=dtype)\n",
        "\n",
        "# Randomly initialize weights\n",
        "w1 = torch.randn(D_in, H, device=device, dtype=dtype)\n",
        "w2 = torch.randn(H, D_out, device=device, dtype=dtype)\n",
        "\n",
        "learning_rate = 1e-6\n",
        "for t in range(500):\n",
        "    # Forward pass: compute predicted y\n",
        "    h = x.mm(w1)\n",
        "    h_relu = h.clamp(min=0)\n",
        "    y_pred = h_relu.mm(w2)\n",
        "\n",
        "    # Compute and print loss\n",
        "    loss = (y_pred - y).pow(2).sum().item()\n",
        "    print(\"epoch= \", t, \", loss= \", loss)\n",
        "\n",
        "    # Backprop to compute gradients of w1 and w2 with respect to loss\n",
        "    grad_y_pred = 2*(y_pred - y)\n",
        "    grad_w2 = h_relu.t().mm(grad_y_pred)\n",
        "    grad_h_relu = grad_y_pred.mm(w2.t())\n",
        "    grad_h = grad_h_relu.clone()\n",
        "    grad_h[h < 0] = 0\n",
        "    grad_w1 = x.t().mm(grad_h)\n",
        "\n",
        "    # Update weights using gradient descent\n",
        "    w1 -= learning_rate * grad_w1\n",
        "    w2 -= learning_rate * grad_w2"
      ],
      "execution_count": 20,
      "outputs": [
        {
          "output_type": "stream",
          "text": [
            "epoch=  0 , loss=  27575292.0\n",
            "epoch=  1 , loss=  21001984.0\n",
            "epoch=  2 , loss=  19783178.0\n",
            "epoch=  3 , loss=  20648996.0\n",
            "epoch=  4 , loss=  21512768.0\n",
            "epoch=  5 , loss=  20702548.0\n",
            "epoch=  6 , loss=  17614312.0\n",
            "epoch=  7 , loss=  13073516.0\n",
            "epoch=  8 , loss=  8663988.0\n",
            "epoch=  9 , loss=  5322775.5\n",
            "epoch=  10 , loss=  3207777.5\n",
            "epoch=  11 , loss=  1974096.75\n",
            "epoch=  12 , loss=  1284422.25\n",
            "epoch=  13 , loss=  894197.25\n",
            "epoch=  14 , loss=  665598.375\n",
            "epoch=  15 , loss=  523212.21875\n",
            "epoch=  16 , loss=  428382.25\n",
            "epoch=  17 , loss=  360722.9375\n",
            "epoch=  18 , loss=  309538.125\n",
            "epoch=  19 , loss=  269001.53125\n",
            "epoch=  20 , loss=  235839.515625\n",
            "epoch=  21 , loss=  208082.8125\n",
            "epoch=  22 , loss=  184471.140625\n",
            "epoch=  23 , loss=  164218.421875\n",
            "epoch=  24 , loss=  146649.265625\n",
            "epoch=  25 , loss=  131312.0625\n",
            "epoch=  26 , loss=  117865.296875\n",
            "epoch=  27 , loss=  106026.15625\n",
            "epoch=  28 , loss=  95555.0703125\n",
            "epoch=  29 , loss=  86278.328125\n",
            "epoch=  30 , loss=  78038.84375\n",
            "epoch=  31 , loss=  70700.3828125\n",
            "epoch=  32 , loss=  64149.8515625\n",
            "epoch=  33 , loss=  58286.87109375\n",
            "epoch=  34 , loss=  53031.87890625\n",
            "epoch=  35 , loss=  48312.921875\n",
            "epoch=  36 , loss=  44063.46484375\n",
            "epoch=  37 , loss=  40235.703125\n",
            "epoch=  38 , loss=  36785.171875\n",
            "epoch=  39 , loss=  33661.83984375\n",
            "epoch=  40 , loss=  30833.58203125\n",
            "epoch=  41 , loss=  28269.6484375\n",
            "epoch=  42 , loss=  25943.16796875\n",
            "epoch=  43 , loss=  23832.015625\n",
            "epoch=  44 , loss=  21910.19921875\n",
            "epoch=  45 , loss=  20157.841796875\n",
            "epoch=  46 , loss=  18559.419921875\n",
            "epoch=  47 , loss=  17099.36328125\n",
            "epoch=  48 , loss=  15764.572265625\n",
            "epoch=  49 , loss=  14543.853515625\n",
            "epoch=  50 , loss=  13424.783203125\n",
            "epoch=  51 , loss=  12399.2568359375\n",
            "epoch=  52 , loss=  11458.4443359375\n",
            "epoch=  53 , loss=  10594.552734375\n",
            "epoch=  54 , loss=  9801.2099609375\n",
            "epoch=  55 , loss=  9071.6748046875\n",
            "epoch=  56 , loss=  8400.58203125\n",
            "epoch=  57 , loss=  7782.66455078125\n",
            "epoch=  58 , loss=  7213.0859375\n",
            "epoch=  59 , loss=  6688.30908203125\n",
            "epoch=  60 , loss=  6204.2060546875\n",
            "epoch=  61 , loss=  5757.54345703125\n",
            "epoch=  62 , loss=  5345.04345703125\n",
            "epoch=  63 , loss=  4963.88623046875\n",
            "epoch=  64 , loss=  4611.57373046875\n",
            "epoch=  65 , loss=  4285.95751953125\n",
            "epoch=  66 , loss=  3984.752685546875\n",
            "epoch=  67 , loss=  3705.825439453125\n",
            "epoch=  68 , loss=  3447.69921875\n",
            "epoch=  69 , loss=  3208.818359375\n",
            "epoch=  70 , loss=  2987.4638671875\n",
            "epoch=  71 , loss=  2782.18359375\n",
            "epoch=  72 , loss=  2591.793701171875\n",
            "epoch=  73 , loss=  2415.12158203125\n",
            "epoch=  74 , loss=  2251.160888671875\n",
            "epoch=  75 , loss=  2098.9423828125\n",
            "epoch=  76 , loss=  1957.511962890625\n",
            "epoch=  77 , loss=  1826.0947265625\n",
            "epoch=  78 , loss=  1703.977783203125\n",
            "epoch=  79 , loss=  1590.435302734375\n",
            "epoch=  80 , loss=  1484.8095703125\n",
            "epoch=  81 , loss=  1386.540771484375\n",
            "epoch=  82 , loss=  1295.1024169921875\n",
            "epoch=  83 , loss=  1210.017333984375\n",
            "epoch=  84 , loss=  1130.7340087890625\n",
            "epoch=  85 , loss=  1056.892822265625\n",
            "epoch=  86 , loss=  988.1165771484375\n",
            "epoch=  87 , loss=  924.032958984375\n",
            "epoch=  88 , loss=  864.2587280273438\n",
            "epoch=  89 , loss=  808.544677734375\n",
            "epoch=  90 , loss=  756.5936279296875\n",
            "epoch=  91 , loss=  708.1089477539062\n",
            "epoch=  92 , loss=  662.909912109375\n",
            "epoch=  93 , loss=  620.7160034179688\n",
            "epoch=  94 , loss=  581.320068359375\n",
            "epoch=  95 , loss=  544.5581665039062\n",
            "epoch=  96 , loss=  510.2030334472656\n",
            "epoch=  97 , loss=  478.10638427734375\n",
            "epoch=  98 , loss=  448.1211853027344\n",
            "epoch=  99 , loss=  420.0895690917969\n",
            "epoch=  100 , loss=  393.89154052734375\n",
            "epoch=  101 , loss=  369.3988952636719\n",
            "epoch=  102 , loss=  346.4893798828125\n",
            "epoch=  103 , loss=  325.05816650390625\n",
            "epoch=  104 , loss=  305.0118103027344\n",
            "epoch=  105 , loss=  286.241943359375\n",
            "epoch=  106 , loss=  268.6730041503906\n",
            "epoch=  107 , loss=  252.23617553710938\n",
            "epoch=  108 , loss=  236.83689880371094\n",
            "epoch=  109 , loss=  222.42091369628906\n",
            "epoch=  110 , loss=  208.9152374267578\n",
            "epoch=  111 , loss=  196.2579803466797\n",
            "epoch=  112 , loss=  184.39517211914062\n",
            "epoch=  113 , loss=  173.28143310546875\n",
            "epoch=  114 , loss=  162.86300659179688\n",
            "epoch=  115 , loss=  153.10043334960938\n",
            "epoch=  116 , loss=  143.95108032226562\n",
            "epoch=  117 , loss=  135.36355590820312\n",
            "epoch=  118 , loss=  127.3062515258789\n",
            "epoch=  119 , loss=  119.74932098388672\n",
            "epoch=  120 , loss=  112.65740966796875\n",
            "epoch=  121 , loss=  106.00028228759766\n",
            "epoch=  122 , loss=  99.75556182861328\n",
            "epoch=  123 , loss=  93.88735961914062\n",
            "epoch=  124 , loss=  88.37818145751953\n",
            "epoch=  125 , loss=  83.20503234863281\n",
            "epoch=  126 , loss=  78.3447494506836\n",
            "epoch=  127 , loss=  73.77745819091797\n",
            "epoch=  128 , loss=  69.48806762695312\n",
            "epoch=  129 , loss=  65.4554672241211\n",
            "epoch=  130 , loss=  61.6661376953125\n",
            "epoch=  131 , loss=  58.10298156738281\n",
            "epoch=  132 , loss=  54.753211975097656\n",
            "epoch=  133 , loss=  51.6035041809082\n",
            "epoch=  134 , loss=  48.64046859741211\n",
            "epoch=  135 , loss=  45.85453414916992\n",
            "epoch=  136 , loss=  43.2330436706543\n",
            "epoch=  137 , loss=  40.76714324951172\n",
            "epoch=  138 , loss=  38.44589614868164\n",
            "epoch=  139 , loss=  36.26162338256836\n",
            "epoch=  140 , loss=  34.204341888427734\n",
            "epoch=  141 , loss=  32.26913070678711\n",
            "epoch=  142 , loss=  30.447233200073242\n",
            "epoch=  143 , loss=  28.731447219848633\n",
            "epoch=  144 , loss=  27.11423683166504\n",
            "epoch=  145 , loss=  25.591978073120117\n",
            "epoch=  146 , loss=  24.15822982788086\n",
            "epoch=  147 , loss=  22.806943893432617\n",
            "epoch=  148 , loss=  21.53313446044922\n",
            "epoch=  149 , loss=  20.33325958251953\n",
            "epoch=  150 , loss=  19.202539443969727\n",
            "epoch=  151 , loss=  18.13613510131836\n",
            "epoch=  152 , loss=  17.131216049194336\n",
            "epoch=  153 , loss=  16.1835880279541\n",
            "epoch=  154 , loss=  15.289901733398438\n",
            "epoch=  155 , loss=  14.447093963623047\n",
            "epoch=  156 , loss=  13.65266227722168\n",
            "epoch=  157 , loss=  12.902291297912598\n",
            "epoch=  158 , loss=  12.195366859436035\n",
            "epoch=  159 , loss=  11.527399063110352\n",
            "epoch=  160 , loss=  10.897998809814453\n",
            "epoch=  161 , loss=  10.303234100341797\n",
            "epoch=  162 , loss=  9.742067337036133\n",
            "epoch=  163 , loss=  9.212798118591309\n",
            "epoch=  164 , loss=  8.712774276733398\n",
            "epoch=  165 , loss=  8.2406587600708\n",
            "epoch=  166 , loss=  7.794660568237305\n",
            "epoch=  167 , loss=  7.373664855957031\n",
            "epoch=  168 , loss=  6.975944519042969\n",
            "epoch=  169 , loss=  6.600541591644287\n",
            "epoch=  170 , loss=  6.245683193206787\n",
            "epoch=  171 , loss=  5.910505294799805\n",
            "epoch=  172 , loss=  5.593660354614258\n",
            "epoch=  173 , loss=  5.29423713684082\n",
            "epoch=  174 , loss=  5.01154899597168\n",
            "epoch=  175 , loss=  4.744320392608643\n",
            "epoch=  176 , loss=  4.491308689117432\n",
            "epoch=  177 , loss=  4.252377510070801\n",
            "epoch=  178 , loss=  4.026656627655029\n",
            "epoch=  179 , loss=  3.812847852706909\n",
            "epoch=  180 , loss=  3.610973358154297\n",
            "epoch=  181 , loss=  3.419929265975952\n",
            "epoch=  182 , loss=  3.239302635192871\n",
            "epoch=  183 , loss=  3.068471908569336\n",
            "epoch=  184 , loss=  2.9068989753723145\n",
            "epoch=  185 , loss=  2.7539238929748535\n",
            "epoch=  186 , loss=  2.60933518409729\n",
            "epoch=  187 , loss=  2.4723398685455322\n",
            "epoch=  188 , loss=  2.3426947593688965\n",
            "epoch=  189 , loss=  2.2201828956604004\n",
            "epoch=  190 , loss=  2.10410213470459\n",
            "epoch=  191 , loss=  1.994334101676941\n",
            "epoch=  192 , loss=  1.8904662132263184\n",
            "epoch=  193 , loss=  1.7918821573257446\n",
            "epoch=  194 , loss=  1.6989037990570068\n",
            "epoch=  195 , loss=  1.610577940940857\n",
            "epoch=  196 , loss=  1.5271329879760742\n",
            "epoch=  197 , loss=  1.4479334354400635\n",
            "epoch=  198 , loss=  1.3728632926940918\n",
            "epoch=  199 , loss=  1.3018440008163452\n",
            "epoch=  200 , loss=  1.2347050905227661\n",
            "epoch=  201 , loss=  1.1710866689682007\n",
            "epoch=  202 , loss=  1.1107226610183716\n",
            "epoch=  203 , loss=  1.0535914897918701\n",
            "epoch=  204 , loss=  0.999355673789978\n",
            "epoch=  205 , loss=  0.9480918645858765\n",
            "epoch=  206 , loss=  0.8994799852371216\n",
            "epoch=  207 , loss=  0.8534014225006104\n",
            "epoch=  208 , loss=  0.8096555471420288\n",
            "epoch=  209 , loss=  0.7682981491088867\n",
            "epoch=  210 , loss=  0.7290342450141907\n",
            "epoch=  211 , loss=  0.6918498277664185\n",
            "epoch=  212 , loss=  0.6565093994140625\n",
            "epoch=  213 , loss=  0.6231074929237366\n",
            "epoch=  214 , loss=  0.5913983583450317\n",
            "epoch=  215 , loss=  0.5612283945083618\n",
            "epoch=  216 , loss=  0.5327610373497009\n",
            "epoch=  217 , loss=  0.5057768225669861\n",
            "epoch=  218 , loss=  0.4801881015300751\n",
            "epoch=  219 , loss=  0.45580074191093445\n",
            "epoch=  220 , loss=  0.432830274105072\n",
            "epoch=  221 , loss=  0.41088780760765076\n",
            "epoch=  222 , loss=  0.39009541273117065\n",
            "epoch=  223 , loss=  0.3704414665699005\n",
            "epoch=  224 , loss=  0.3517318069934845\n",
            "epoch=  225 , loss=  0.3340194523334503\n",
            "epoch=  226 , loss=  0.31722164154052734\n",
            "epoch=  227 , loss=  0.3012222945690155\n",
            "epoch=  228 , loss=  0.28614798188209534\n",
            "epoch=  229 , loss=  0.27175623178482056\n",
            "epoch=  230 , loss=  0.25810369849205017\n",
            "epoch=  231 , loss=  0.24515587091445923\n",
            "epoch=  232 , loss=  0.2329029142856598\n",
            "epoch=  233 , loss=  0.2212386131286621\n",
            "epoch=  234 , loss=  0.21020406484603882\n",
            "epoch=  235 , loss=  0.19969651103019714\n",
            "epoch=  236 , loss=  0.18971551954746246\n",
            "epoch=  237 , loss=  0.18027029931545258\n",
            "epoch=  238 , loss=  0.17131267488002777\n",
            "epoch=  239 , loss=  0.16275359690189362\n",
            "epoch=  240 , loss=  0.15462139248847961\n",
            "epoch=  241 , loss=  0.14693352580070496\n",
            "epoch=  242 , loss=  0.1396195888519287\n",
            "epoch=  243 , loss=  0.13267673552036285\n",
            "epoch=  244 , loss=  0.1260921061038971\n",
            "epoch=  245 , loss=  0.11981610953807831\n",
            "epoch=  246 , loss=  0.11389279365539551\n",
            "epoch=  247 , loss=  0.1082378551363945\n",
            "epoch=  248 , loss=  0.1028691977262497\n",
            "epoch=  249 , loss=  0.09779949486255646\n",
            "epoch=  250 , loss=  0.09295257180929184\n",
            "epoch=  251 , loss=  0.0883527621626854\n",
            "epoch=  252 , loss=  0.08396051079034805\n",
            "epoch=  253 , loss=  0.0798170268535614\n",
            "epoch=  254 , loss=  0.07589124143123627\n",
            "epoch=  255 , loss=  0.07216854393482208\n",
            "epoch=  256 , loss=  0.06857502460479736\n",
            "epoch=  257 , loss=  0.0652136579155922\n",
            "epoch=  258 , loss=  0.062010258436203\n",
            "epoch=  259 , loss=  0.05896752327680588\n",
            "epoch=  260 , loss=  0.05608448013663292\n",
            "epoch=  261 , loss=  0.05333690345287323\n",
            "epoch=  262 , loss=  0.05071471631526947\n",
            "epoch=  263 , loss=  0.048233337700366974\n",
            "epoch=  264 , loss=  0.045869506895542145\n",
            "epoch=  265 , loss=  0.04361071065068245\n",
            "epoch=  266 , loss=  0.04147249832749367\n",
            "epoch=  267 , loss=  0.03944901376962662\n",
            "epoch=  268 , loss=  0.03750837966799736\n",
            "epoch=  269 , loss=  0.035673294216394424\n",
            "epoch=  270 , loss=  0.03394482657313347\n",
            "epoch=  271 , loss=  0.032291412353515625\n",
            "epoch=  272 , loss=  0.0307107362896204\n",
            "epoch=  273 , loss=  0.029216572642326355\n",
            "epoch=  274 , loss=  0.027799298986792564\n",
            "epoch=  275 , loss=  0.026445286348462105\n",
            "epoch=  276 , loss=  0.02517152763903141\n",
            "epoch=  277 , loss=  0.023932868614792824\n",
            "epoch=  278 , loss=  0.022769661620259285\n",
            "epoch=  279 , loss=  0.021670369431376457\n",
            "epoch=  280 , loss=  0.02062426693737507\n",
            "epoch=  281 , loss=  0.019629061222076416\n",
            "epoch=  282 , loss=  0.018682090565562248\n",
            "epoch=  283 , loss=  0.017788078635931015\n",
            "epoch=  284 , loss=  0.016934523358941078\n",
            "epoch=  285 , loss=  0.016112979501485825\n",
            "epoch=  286 , loss=  0.015342297032475471\n",
            "epoch=  287 , loss=  0.014616752043366432\n",
            "epoch=  288 , loss=  0.013913162983953953\n",
            "epoch=  289 , loss=  0.013256270438432693\n",
            "epoch=  290 , loss=  0.0126107232645154\n",
            "epoch=  291 , loss=  0.01201573945581913\n",
            "epoch=  292 , loss=  0.011442678980529308\n",
            "epoch=  293 , loss=  0.010901272296905518\n",
            "epoch=  294 , loss=  0.010390158742666245\n",
            "epoch=  295 , loss=  0.00990185234695673\n",
            "epoch=  296 , loss=  0.00942977424710989\n",
            "epoch=  297 , loss=  0.008982343599200249\n",
            "epoch=  298 , loss=  0.008566606789827347\n",
            "epoch=  299 , loss=  0.008160785771906376\n",
            "epoch=  300 , loss=  0.007775940001010895\n",
            "epoch=  301 , loss=  0.007409333251416683\n",
            "epoch=  302 , loss=  0.007066518999636173\n",
            "epoch=  303 , loss=  0.006734708324074745\n",
            "epoch=  304 , loss=  0.006429971661418676\n",
            "epoch=  305 , loss=  0.0061363293789327145\n",
            "epoch=  306 , loss=  0.005854301154613495\n",
            "epoch=  307 , loss=  0.0055887820199131966\n",
            "epoch=  308 , loss=  0.0053299469873309135\n",
            "epoch=  309 , loss=  0.0050861770287156105\n",
            "epoch=  310 , loss=  0.004853092599660158\n",
            "epoch=  311 , loss=  0.00463483389467001\n",
            "epoch=  312 , loss=  0.004425742197781801\n",
            "epoch=  313 , loss=  0.004228032659739256\n",
            "epoch=  314 , loss=  0.0040424480102956295\n",
            "epoch=  315 , loss=  0.0038651719223707914\n",
            "epoch=  316 , loss=  0.00368869723752141\n",
            "epoch=  317 , loss=  0.003527221269905567\n",
            "epoch=  318 , loss=  0.0033728706184774637\n",
            "epoch=  319 , loss=  0.0032269374933093786\n",
            "epoch=  320 , loss=  0.0030865659937262535\n",
            "epoch=  321 , loss=  0.0029553016647696495\n",
            "epoch=  322 , loss=  0.0028262007981538773\n",
            "epoch=  323 , loss=  0.002708128187805414\n",
            "epoch=  324 , loss=  0.002590846735984087\n",
            "epoch=  325 , loss=  0.0024777657818049192\n",
            "epoch=  326 , loss=  0.0023747640661895275\n",
            "epoch=  327 , loss=  0.0022771700751036406\n",
            "epoch=  328 , loss=  0.0021838671527802944\n",
            "epoch=  329 , loss=  0.0020943519193679094\n",
            "epoch=  330 , loss=  0.0020076713990420103\n",
            "epoch=  331 , loss=  0.0019252726342529058\n",
            "epoch=  332 , loss=  0.0018470122013241053\n",
            "epoch=  333 , loss=  0.0017715306021273136\n",
            "epoch=  334 , loss=  0.0017025124980136752\n",
            "epoch=  335 , loss=  0.0016355500556528568\n",
            "epoch=  336 , loss=  0.001570476102642715\n",
            "epoch=  337 , loss=  0.0015090436208993196\n",
            "epoch=  338 , loss=  0.0014480261597782373\n",
            "epoch=  339 , loss=  0.001393298851326108\n",
            "epoch=  340 , loss=  0.0013400454772636294\n",
            "epoch=  341 , loss=  0.0012902014423161745\n",
            "epoch=  342 , loss=  0.0012406284222379327\n",
            "epoch=  343 , loss=  0.0011930043110623956\n",
            "epoch=  344 , loss=  0.0011506053851917386\n",
            "epoch=  345 , loss=  0.001106324139982462\n",
            "epoch=  346 , loss=  0.0010645203292369843\n",
            "epoch=  347 , loss=  0.0010267201578244567\n",
            "epoch=  348 , loss=  0.0009892465313896537\n",
            "epoch=  349 , loss=  0.0009544185595586896\n",
            "epoch=  350 , loss=  0.0009206624235957861\n",
            "epoch=  351 , loss=  0.0008895472856238484\n",
            "epoch=  352 , loss=  0.0008571830694563687\n",
            "epoch=  353 , loss=  0.0008264987263828516\n",
            "epoch=  354 , loss=  0.0007983972900547087\n",
            "epoch=  355 , loss=  0.0007713699014857411\n",
            "epoch=  356 , loss=  0.000745524070225656\n",
            "epoch=  357 , loss=  0.0007217763341031969\n",
            "epoch=  358 , loss=  0.0006959972670301795\n",
            "epoch=  359 , loss=  0.0006731229368597269\n",
            "epoch=  360 , loss=  0.0006515083950944245\n",
            "epoch=  361 , loss=  0.0006307985167950392\n",
            "epoch=  362 , loss=  0.0006104742060415447\n",
            "epoch=  363 , loss=  0.0005899203824810684\n",
            "epoch=  364 , loss=  0.0005712309502996504\n",
            "epoch=  365 , loss=  0.0005532199866138399\n",
            "epoch=  366 , loss=  0.0005364937824197114\n",
            "epoch=  367 , loss=  0.0005190868978388608\n",
            "epoch=  368 , loss=  0.0005022010300308466\n",
            "epoch=  369 , loss=  0.0004880579363089055\n",
            "epoch=  370 , loss=  0.0004718730051536113\n",
            "epoch=  371 , loss=  0.00045778389903716743\n",
            "epoch=  372 , loss=  0.00044418865581974387\n",
            "epoch=  373 , loss=  0.0004308068018872291\n",
            "epoch=  374 , loss=  0.00041641935240477324\n",
            "epoch=  375 , loss=  0.00040529994294047356\n",
            "epoch=  376 , loss=  0.00039378300425596535\n",
            "epoch=  377 , loss=  0.00038186926394701004\n",
            "epoch=  378 , loss=  0.00037150250864215195\n",
            "epoch=  379 , loss=  0.00036054482916370034\n",
            "epoch=  380 , loss=  0.00035108847077935934\n",
            "epoch=  381 , loss=  0.0003412208752706647\n",
            "epoch=  382 , loss=  0.0003312277258373797\n",
            "epoch=  383 , loss=  0.00032209118944592774\n",
            "epoch=  384 , loss=  0.0003123036294709891\n",
            "epoch=  385 , loss=  0.00030442472780123353\n",
            "epoch=  386 , loss=  0.00029639824060723186\n",
            "epoch=  387 , loss=  0.00028809113427996635\n",
            "epoch=  388 , loss=  0.00028086500242352486\n",
            "epoch=  389 , loss=  0.0002726399397943169\n",
            "epoch=  390 , loss=  0.0002657919831108302\n",
            "epoch=  391 , loss=  0.00025906460359692574\n",
            "epoch=  392 , loss=  0.00025298394029960036\n",
            "epoch=  393 , loss=  0.00024585076607763767\n",
            "epoch=  394 , loss=  0.00023950263857841492\n",
            "epoch=  395 , loss=  0.000233702507102862\n",
            "epoch=  396 , loss=  0.00022766386973671615\n",
            "epoch=  397 , loss=  0.0002220640890300274\n",
            "epoch=  398 , loss=  0.0002166042831959203\n",
            "epoch=  399 , loss=  0.0002112964284606278\n",
            "epoch=  400 , loss=  0.0002058123063761741\n",
            "epoch=  401 , loss=  0.00020113731443416327\n",
            "epoch=  402 , loss=  0.00019628906738944352\n",
            "epoch=  403 , loss=  0.0001914913154905662\n",
            "epoch=  404 , loss=  0.00018682549125514925\n",
            "epoch=  405 , loss=  0.0001826345396693796\n",
            "epoch=  406 , loss=  0.00017840557848103344\n",
            "epoch=  407 , loss=  0.00017441046657040715\n",
            "epoch=  408 , loss=  0.00017009975272230804\n",
            "epoch=  409 , loss=  0.00016589440929237753\n",
            "epoch=  410 , loss=  0.00016193909686990082\n",
            "epoch=  411 , loss=  0.00015857168182265013\n",
            "epoch=  412 , loss=  0.00015516267740167677\n",
            "epoch=  413 , loss=  0.00015131662075873464\n",
            "epoch=  414 , loss=  0.00014826314873062074\n",
            "epoch=  415 , loss=  0.00014454880147241056\n",
            "epoch=  416 , loss=  0.00014136979007162154\n",
            "epoch=  417 , loss=  0.00013812430552206933\n",
            "epoch=  418 , loss=  0.00013579473306890577\n",
            "epoch=  419 , loss=  0.00013270278577692807\n",
            "epoch=  420 , loss=  0.00012997465091757476\n",
            "epoch=  421 , loss=  0.00012752646580338478\n",
            "epoch=  422 , loss=  0.00012488978973124176\n",
            "epoch=  423 , loss=  0.00012194531154818833\n",
            "epoch=  424 , loss=  0.00011942347191506997\n",
            "epoch=  425 , loss=  0.00011709249520208687\n",
            "epoch=  426 , loss=  0.0001148805531556718\n",
            "epoch=  427 , loss=  0.00011213746620342135\n",
            "epoch=  428 , loss=  0.00010973175812978297\n",
            "epoch=  429 , loss=  0.00010753409151220694\n",
            "epoch=  430 , loss=  0.00010556876077316701\n",
            "epoch=  431 , loss=  0.0001034937085933052\n",
            "epoch=  432 , loss=  0.00010167088476009667\n",
            "epoch=  433 , loss=  9.953027620213106e-05\n",
            "epoch=  434 , loss=  9.76793235167861e-05\n",
            "epoch=  435 , loss=  9.584757208358496e-05\n",
            "epoch=  436 , loss=  9.416326793143526e-05\n",
            "epoch=  437 , loss=  9.270032751373947e-05\n",
            "epoch=  438 , loss=  9.084374323720112e-05\n",
            "epoch=  439 , loss=  8.92022653715685e-05\n",
            "epoch=  440 , loss=  8.808172424323857e-05\n",
            "epoch=  441 , loss=  8.652026735944673e-05\n",
            "epoch=  442 , loss=  8.502992568537593e-05\n",
            "epoch=  443 , loss=  8.3739279943984e-05\n",
            "epoch=  444 , loss=  8.20745772216469e-05\n",
            "epoch=  445 , loss=  8.075816731434315e-05\n",
            "epoch=  446 , loss=  7.942508818814531e-05\n",
            "epoch=  447 , loss=  7.805647328495979e-05\n",
            "epoch=  448 , loss=  7.665189332328737e-05\n",
            "epoch=  449 , loss=  7.540468504885212e-05\n",
            "epoch=  450 , loss=  7.430744881276041e-05\n",
            "epoch=  451 , loss=  7.293566159205511e-05\n",
            "epoch=  452 , loss=  7.161954999901354e-05\n",
            "epoch=  453 , loss=  7.04177946317941e-05\n",
            "epoch=  454 , loss=  6.909758667461574e-05\n",
            "epoch=  455 , loss=  6.801822746638209e-05\n",
            "epoch=  456 , loss=  6.695464253425598e-05\n",
            "epoch=  457 , loss=  6.605758244404569e-05\n",
            "epoch=  458 , loss=  6.505727651529014e-05\n",
            "epoch=  459 , loss=  6.391736678779125e-05\n",
            "epoch=  460 , loss=  6.30591093795374e-05\n",
            "epoch=  461 , loss=  6.23547239229083e-05\n",
            "epoch=  462 , loss=  6.140418554423377e-05\n",
            "epoch=  463 , loss=  6.048044451745227e-05\n",
            "epoch=  464 , loss=  5.9665202570613474e-05\n",
            "epoch=  465 , loss=  5.872888505109586e-05\n",
            "epoch=  466 , loss=  5.7832130551105365e-05\n",
            "epoch=  467 , loss=  5.7280834880657494e-05\n",
            "epoch=  468 , loss=  5.6328099162783474e-05\n",
            "epoch=  469 , loss=  5.550263085751794e-05\n",
            "epoch=  470 , loss=  5.4558186093345284e-05\n",
            "epoch=  471 , loss=  5.3907930123386905e-05\n",
            "epoch=  472 , loss=  5.3115858463570476e-05\n",
            "epoch=  473 , loss=  5.2360992413014174e-05\n",
            "epoch=  474 , loss=  5.1645663916133344e-05\n",
            "epoch=  475 , loss=  5.103267540107481e-05\n",
            "epoch=  476 , loss=  5.018030424253084e-05\n",
            "epoch=  477 , loss=  4.9526250222697854e-05\n",
            "epoch=  478 , loss=  4.871581768384203e-05\n",
            "epoch=  479 , loss=  4.7901070502121e-05\n",
            "epoch=  480 , loss=  4.7234774683602154e-05\n",
            "epoch=  481 , loss=  4.662046194425784e-05\n",
            "epoch=  482 , loss=  4.601494947564788e-05\n",
            "epoch=  483 , loss=  4.543410614132881e-05\n",
            "epoch=  484 , loss=  4.4936055928701535e-05\n",
            "epoch=  485 , loss=  4.449672996997833e-05\n",
            "epoch=  486 , loss=  4.39389914390631e-05\n",
            "epoch=  487 , loss=  4.3222134991083294e-05\n",
            "epoch=  488 , loss=  4.269547207513824e-05\n",
            "epoch=  489 , loss=  4.1943876567529514e-05\n",
            "epoch=  490 , loss=  4.141607860219665e-05\n",
            "epoch=  491 , loss=  4.093920870218426e-05\n",
            "epoch=  492 , loss=  4.0626015106681734e-05\n",
            "epoch=  493 , loss=  4.0117061871569604e-05\n",
            "epoch=  494 , loss=  3.962100890930742e-05\n",
            "epoch=  495 , loss=  3.921709139831364e-05\n",
            "epoch=  496 , loss=  3.8736641727155074e-05\n",
            "epoch=  497 , loss=  3.807237953878939e-05\n",
            "epoch=  498 , loss=  3.7621124647557735e-05\n",
            "epoch=  499 , loss=  3.740116881090216e-05\n"
          ],
          "name": "stdout"
        }
      ]
    },
    {
      "cell_type": "code",
      "metadata": {
        "id": "BtMEZ_hxxNZu",
        "colab_type": "code",
        "colab": {
          "base_uri": "https://localhost:8080/",
          "height": 1000
        },
        "outputId": "89f66071-9910-46db-8286-297047d29408"
      },
      "source": [
        "dtype = torch.float\n",
        "device = torch.device(\"cpu\")\n",
        "# device = torch.device(\"cuda:0\") # Uncomment this to run on GPU\n",
        "\n",
        "# N is batch size; D_in is input dimension;\n",
        "# H is hidden dimension; D_out is output dimension.\n",
        "N, D_in, H, D_out = 64, 1000, 100, 10\n",
        "\n",
        "# Create random input and output data\n",
        "x = torch.randn(N, D_in, device=device, dtype=dtype)\n",
        "y = torch.randn(N, D_out, device=device, dtype=dtype)\n",
        "\n",
        "# Randomly initialize weights\n",
        "w1 = torch.randn(D_in, H, device=device, dtype=dtype)\n",
        "w2 = torch.randn(H, D_out, device=device, dtype=dtype)\n",
        "\n",
        "learning_rate = 1e-6\n",
        "for t in range(500):\n",
        "    # Forward pass: compute predicted y\n",
        "    h = x.mm(w1)\n",
        "    h_relu = h.clamp(min=0)\n",
        "    y_pred = h_relu.mm(w2)\n",
        "\n",
        "    # Compute and print loss\n",
        "    loss = (y_pred - y).pow(2).sum().item()\n",
        "    print(\"epoch= \", t, \", loss= \", loss)\n",
        "\n",
        "    # Backprop to compute gradients of w1 and w2 with respect to loss\n",
        "    grad_y_pred = 2*(y_pred - y)\n",
        "    grad_w2 = h_relu.t().mm(grad_y_pred)\n",
        "    grad_h_relu = grad_y_pred.mm(w2.t())\n",
        "    grad_h = grad_h_relu\n",
        "    grad_h[h < 0] = 0\n",
        "    grad_w1 = x.t().mm(grad_h)\n",
        "\n",
        "    # Update weights using gradient descent\n",
        "    w1 -= learning_rate * grad_w1\n",
        "    w2 -= learning_rate * grad_w2"
      ],
      "execution_count": 31,
      "outputs": [
        {
          "output_type": "stream",
          "text": [
            "epoch=  0 , loss=  27705216.0\n",
            "epoch=  1 , loss=  23267218.0\n",
            "epoch=  2 , loss=  23832958.0\n",
            "epoch=  3 , loss=  25601036.0\n",
            "epoch=  4 , loss=  25690936.0\n",
            "epoch=  5 , loss=  22147204.0\n",
            "epoch=  6 , loss=  16115401.0\n",
            "epoch=  7 , loss=  9930812.0\n",
            "epoch=  8 , loss=  5599052.0\n",
            "epoch=  9 , loss=  3088986.0\n",
            "epoch=  10 , loss=  1801617.375\n",
            "epoch=  11 , loss=  1149745.625\n",
            "epoch=  12 , loss=  809153.625\n",
            "epoch=  13 , loss=  615733.9375\n",
            "epoch=  14 , loss=  494416.59375\n",
            "epoch=  15 , loss=  410510.9375\n",
            "epoch=  16 , loss=  347863.65625\n",
            "epoch=  17 , loss=  298551.15625\n",
            "epoch=  18 , loss=  258399.765625\n",
            "epoch=  19 , loss=  224980.34375\n",
            "epoch=  20 , loss=  196746.40625\n",
            "epoch=  21 , loss=  172722.0\n",
            "epoch=  22 , loss=  152147.015625\n",
            "epoch=  23 , loss=  134430.671875\n",
            "epoch=  24 , loss=  119108.234375\n",
            "epoch=  25 , loss=  105806.9453125\n",
            "epoch=  26 , loss=  94223.453125\n",
            "epoch=  27 , loss=  84102.671875\n",
            "epoch=  28 , loss=  75260.3984375\n",
            "epoch=  29 , loss=  67491.765625\n",
            "epoch=  30 , loss=  60643.7890625\n",
            "epoch=  31 , loss=  54589.5859375\n",
            "epoch=  32 , loss=  49232.2890625\n",
            "epoch=  33 , loss=  44474.42578125\n",
            "epoch=  34 , loss=  40237.68359375\n",
            "epoch=  35 , loss=  36458.69921875\n",
            "epoch=  36 , loss=  33083.203125\n",
            "epoch=  37 , loss=  30059.48828125\n",
            "epoch=  38 , loss=  27346.732421875\n",
            "epoch=  39 , loss=  24909.029296875\n",
            "epoch=  40 , loss=  22715.41796875\n",
            "epoch=  41 , loss=  20738.01171875\n",
            "epoch=  42 , loss=  18952.90625\n",
            "epoch=  43 , loss=  17338.44921875\n",
            "epoch=  44 , loss=  15877.078125\n",
            "epoch=  45 , loss=  14553.30078125\n",
            "epoch=  46 , loss=  13351.7861328125\n",
            "epoch=  47 , loss=  12260.404296875\n",
            "epoch=  48 , loss=  11266.7578125\n",
            "epoch=  49 , loss=  10362.1455078125\n",
            "epoch=  50 , loss=  9537.7353515625\n",
            "epoch=  51 , loss=  8785.2197265625\n",
            "epoch=  52 , loss=  8097.7431640625\n",
            "epoch=  53 , loss=  7469.20263671875\n",
            "epoch=  54 , loss=  6894.02587890625\n",
            "epoch=  55 , loss=  6367.17529296875\n",
            "epoch=  56 , loss=  5884.28173828125\n",
            "epoch=  57 , loss=  5441.1650390625\n",
            "epoch=  58 , loss=  5034.3291015625\n",
            "epoch=  59 , loss=  4660.94580078125\n",
            "epoch=  60 , loss=  4317.43310546875\n",
            "epoch=  61 , loss=  4001.2802734375\n",
            "epoch=  62 , loss=  3710.041748046875\n",
            "epoch=  63 , loss=  3441.744140625\n",
            "epoch=  64 , loss=  3194.323974609375\n",
            "epoch=  65 , loss=  2965.911865234375\n",
            "epoch=  66 , loss=  2754.966552734375\n",
            "epoch=  67 , loss=  2560.084716796875\n",
            "epoch=  68 , loss=  2379.95947265625\n",
            "epoch=  69 , loss=  2213.359619140625\n",
            "epoch=  70 , loss=  2059.228515625\n",
            "epoch=  71 , loss=  1916.534912109375\n",
            "epoch=  72 , loss=  1784.3048095703125\n",
            "epoch=  73 , loss=  1661.796630859375\n",
            "epoch=  74 , loss=  1548.220947265625\n",
            "epoch=  75 , loss=  1442.8704833984375\n",
            "epoch=  76 , loss=  1345.166259765625\n",
            "epoch=  77 , loss=  1254.4658203125\n",
            "epoch=  78 , loss=  1170.2357177734375\n",
            "epoch=  79 , loss=  1091.9664306640625\n",
            "epoch=  80 , loss=  1019.2432250976562\n",
            "epoch=  81 , loss=  951.658447265625\n",
            "epoch=  82 , loss=  888.8051147460938\n",
            "epoch=  83 , loss=  830.3156127929688\n",
            "epoch=  84 , loss=  775.9407958984375\n",
            "epoch=  85 , loss=  725.2566528320312\n",
            "epoch=  86 , loss=  678.0773315429688\n",
            "epoch=  87 , loss=  634.1144409179688\n",
            "epoch=  88 , loss=  593.1629028320312\n",
            "epoch=  89 , loss=  554.9886474609375\n",
            "epoch=  90 , loss=  519.392578125\n",
            "epoch=  91 , loss=  486.19146728515625\n",
            "epoch=  92 , loss=  455.2237548828125\n",
            "epoch=  93 , loss=  426.3257141113281\n",
            "epoch=  94 , loss=  399.3501281738281\n",
            "epoch=  95 , loss=  374.1617736816406\n",
            "epoch=  96 , loss=  350.632568359375\n",
            "epoch=  97 , loss=  328.65777587890625\n",
            "epoch=  98 , loss=  308.12017822265625\n",
            "epoch=  99 , loss=  288.9290466308594\n",
            "epoch=  100 , loss=  270.9886779785156\n",
            "epoch=  101 , loss=  254.21263122558594\n",
            "epoch=  102 , loss=  238.51918029785156\n",
            "epoch=  103 , loss=  223.84068298339844\n",
            "epoch=  104 , loss=  210.10232543945312\n",
            "epoch=  105 , loss=  197.24803161621094\n",
            "epoch=  106 , loss=  185.20977783203125\n",
            "epoch=  107 , loss=  173.93603515625\n",
            "epoch=  108 , loss=  163.3792266845703\n",
            "epoch=  109 , loss=  153.48875427246094\n",
            "epoch=  110 , loss=  144.22555541992188\n",
            "epoch=  111 , loss=  135.54287719726562\n",
            "epoch=  112 , loss=  127.40455627441406\n",
            "epoch=  113 , loss=  119.77922058105469\n",
            "epoch=  114 , loss=  112.62298583984375\n",
            "epoch=  115 , loss=  105.91092681884766\n",
            "epoch=  116 , loss=  99.61802673339844\n",
            "epoch=  117 , loss=  93.71160888671875\n",
            "epoch=  118 , loss=  88.16758728027344\n",
            "epoch=  119 , loss=  82.96549224853516\n",
            "epoch=  120 , loss=  78.08050537109375\n",
            "epoch=  121 , loss=  73.49459075927734\n",
            "epoch=  122 , loss=  69.18866729736328\n",
            "epoch=  123 , loss=  65.14472198486328\n",
            "epoch=  124 , loss=  61.34504699707031\n",
            "epoch=  125 , loss=  57.774898529052734\n",
            "epoch=  126 , loss=  54.42052459716797\n",
            "epoch=  127 , loss=  51.267208099365234\n",
            "epoch=  128 , loss=  48.303375244140625\n",
            "epoch=  129 , loss=  45.517269134521484\n",
            "epoch=  130 , loss=  42.89667892456055\n",
            "epoch=  131 , loss=  40.43327331542969\n",
            "epoch=  132 , loss=  38.11503601074219\n",
            "epoch=  133 , loss=  35.935733795166016\n",
            "epoch=  134 , loss=  33.88364791870117\n",
            "epoch=  135 , loss=  31.95313262939453\n",
            "epoch=  136 , loss=  30.13552474975586\n",
            "epoch=  137 , loss=  28.426074981689453\n",
            "epoch=  138 , loss=  26.81624412536621\n",
            "epoch=  139 , loss=  25.300146102905273\n",
            "epoch=  140 , loss=  23.873371124267578\n",
            "epoch=  141 , loss=  22.52867889404297\n",
            "epoch=  142 , loss=  21.262216567993164\n",
            "epoch=  143 , loss=  20.07011604309082\n",
            "epoch=  144 , loss=  18.94706153869629\n",
            "epoch=  145 , loss=  17.888965606689453\n",
            "epoch=  146 , loss=  16.89162826538086\n",
            "epoch=  147 , loss=  15.951193809509277\n",
            "epoch=  148 , loss=  15.065146446228027\n",
            "epoch=  149 , loss=  14.229504585266113\n",
            "epoch=  150 , loss=  13.441461563110352\n",
            "epoch=  151 , loss=  12.69799518585205\n",
            "epoch=  152 , loss=  11.996968269348145\n",
            "epoch=  153 , loss=  11.335984230041504\n",
            "epoch=  154 , loss=  10.71268081665039\n",
            "epoch=  155 , loss=  10.123756408691406\n",
            "epoch=  156 , loss=  9.5689058303833\n",
            "epoch=  157 , loss=  9.044549942016602\n",
            "epoch=  158 , loss=  8.55063533782959\n",
            "epoch=  159 , loss=  8.083928108215332\n",
            "epoch=  160 , loss=  7.643120288848877\n",
            "epoch=  161 , loss=  7.227451324462891\n",
            "epoch=  162 , loss=  6.834348678588867\n",
            "epoch=  163 , loss=  6.463537216186523\n",
            "epoch=  164 , loss=  6.113202095031738\n",
            "epoch=  165 , loss=  5.78244686126709\n",
            "epoch=  166 , loss=  5.470203399658203\n",
            "epoch=  167 , loss=  5.174717903137207\n",
            "epoch=  168 , loss=  4.895876884460449\n",
            "epoch=  169 , loss=  4.632176399230957\n",
            "epoch=  170 , loss=  4.383152961730957\n",
            "epoch=  171 , loss=  4.14792013168335\n",
            "epoch=  172 , loss=  3.9254090785980225\n",
            "epoch=  173 , loss=  3.7151103019714355\n",
            "epoch=  174 , loss=  3.516639471054077\n",
            "epoch=  175 , loss=  3.328775405883789\n",
            "epoch=  176 , loss=  3.1510727405548096\n",
            "epoch=  177 , loss=  2.9830870628356934\n",
            "epoch=  178 , loss=  2.8242805004119873\n",
            "epoch=  179 , loss=  2.6743130683898926\n",
            "epoch=  180 , loss=  2.5323116779327393\n",
            "epoch=  181 , loss=  2.398124933242798\n",
            "epoch=  182 , loss=  2.271108627319336\n",
            "epoch=  183 , loss=  2.150749683380127\n",
            "epoch=  184 , loss=  2.037019729614258\n",
            "epoch=  185 , loss=  1.929559588432312\n",
            "epoch=  186 , loss=  1.8277156352996826\n",
            "epoch=  187 , loss=  1.7315783500671387\n",
            "epoch=  188 , loss=  1.6403307914733887\n",
            "epoch=  189 , loss=  1.554184913635254\n",
            "epoch=  190 , loss=  1.4725180864334106\n",
            "epoch=  191 , loss=  1.3951711654663086\n",
            "epoch=  192 , loss=  1.321955919265747\n",
            "epoch=  193 , loss=  1.252873182296753\n",
            "epoch=  194 , loss=  1.1873561143875122\n",
            "epoch=  195 , loss=  1.1251800060272217\n",
            "epoch=  196 , loss=  1.066544771194458\n",
            "epoch=  197 , loss=  1.0109251737594604\n",
            "epoch=  198 , loss=  0.9582775235176086\n",
            "epoch=  199 , loss=  0.9083801507949829\n",
            "epoch=  200 , loss=  0.8610839247703552\n",
            "epoch=  201 , loss=  0.81634521484375\n",
            "epoch=  202 , loss=  0.7739297747612\n",
            "epoch=  203 , loss=  0.7339059710502625\n",
            "epoch=  204 , loss=  0.6957867741584778\n",
            "epoch=  205 , loss=  0.6598592400550842\n",
            "epoch=  206 , loss=  0.6257294416427612\n",
            "epoch=  207 , loss=  0.5933520793914795\n",
            "epoch=  208 , loss=  0.5626927614212036\n",
            "epoch=  209 , loss=  0.5336647033691406\n",
            "epoch=  210 , loss=  0.5061333775520325\n",
            "epoch=  211 , loss=  0.4800114929676056\n",
            "epoch=  212 , loss=  0.4554273784160614\n",
            "epoch=  213 , loss=  0.43188345432281494\n",
            "epoch=  214 , loss=  0.40972140431404114\n",
            "epoch=  215 , loss=  0.38866370916366577\n",
            "epoch=  216 , loss=  0.368714839220047\n",
            "epoch=  217 , loss=  0.3498118221759796\n",
            "epoch=  218 , loss=  0.33187294006347656\n",
            "epoch=  219 , loss=  0.31493088603019714\n",
            "epoch=  220 , loss=  0.29882970452308655\n",
            "epoch=  221 , loss=  0.2835085690021515\n",
            "epoch=  222 , loss=  0.2689990699291229\n",
            "epoch=  223 , loss=  0.2552577257156372\n",
            "epoch=  224 , loss=  0.24228216707706451\n",
            "epoch=  225 , loss=  0.2298945039510727\n",
            "epoch=  226 , loss=  0.21822752058506012\n",
            "epoch=  227 , loss=  0.2071010321378708\n",
            "epoch=  228 , loss=  0.19656535983085632\n",
            "epoch=  229 , loss=  0.1865588128566742\n",
            "epoch=  230 , loss=  0.1771066039800644\n",
            "epoch=  231 , loss=  0.16808272898197174\n",
            "epoch=  232 , loss=  0.1595672369003296\n",
            "epoch=  233 , loss=  0.15150386095046997\n",
            "epoch=  234 , loss=  0.14381088316440582\n",
            "epoch=  235 , loss=  0.1365252286195755\n",
            "epoch=  236 , loss=  0.12962378561496735\n",
            "epoch=  237 , loss=  0.12306947261095047\n",
            "epoch=  238 , loss=  0.11681792885065079\n",
            "epoch=  239 , loss=  0.11095079034566879\n",
            "epoch=  240 , loss=  0.10534070432186127\n",
            "epoch=  241 , loss=  0.10001861304044724\n",
            "epoch=  242 , loss=  0.0949767604470253\n",
            "epoch=  243 , loss=  0.09019892662763596\n",
            "epoch=  244 , loss=  0.08564663678407669\n",
            "epoch=  245 , loss=  0.08130986243486404\n",
            "epoch=  246 , loss=  0.07721471041440964\n",
            "epoch=  247 , loss=  0.07334844768047333\n",
            "epoch=  248 , loss=  0.06965135782957077\n",
            "epoch=  249 , loss=  0.06616119295358658\n",
            "epoch=  250 , loss=  0.06283555179834366\n",
            "epoch=  251 , loss=  0.05967874825000763\n",
            "epoch=  252 , loss=  0.05670515075325966\n",
            "epoch=  253 , loss=  0.05385521054267883\n",
            "epoch=  254 , loss=  0.05114685371518135\n",
            "epoch=  255 , loss=  0.04858367517590523\n",
            "epoch=  256 , loss=  0.04616104066371918\n",
            "epoch=  257 , loss=  0.04385362192988396\n",
            "epoch=  258 , loss=  0.04167214781045914\n",
            "epoch=  259 , loss=  0.0395934171974659\n",
            "epoch=  260 , loss=  0.03762250766158104\n",
            "epoch=  261 , loss=  0.03574567288160324\n",
            "epoch=  262 , loss=  0.03397379815578461\n",
            "epoch=  263 , loss=  0.03228552266955376\n",
            "epoch=  264 , loss=  0.03066452220082283\n",
            "epoch=  265 , loss=  0.029150117188692093\n",
            "epoch=  266 , loss=  0.02770182117819786\n",
            "epoch=  267 , loss=  0.026334885507822037\n",
            "epoch=  268 , loss=  0.02503270097076893\n",
            "epoch=  269 , loss=  0.023788589984178543\n",
            "epoch=  270 , loss=  0.022618167102336884\n",
            "epoch=  271 , loss=  0.021511226892471313\n",
            "epoch=  272 , loss=  0.020443005487322807\n",
            "epoch=  273 , loss=  0.019431903958320618\n",
            "epoch=  274 , loss=  0.01847938634455204\n",
            "epoch=  275 , loss=  0.0175668653100729\n",
            "epoch=  276 , loss=  0.016698699444532394\n",
            "epoch=  277 , loss=  0.015885822474956512\n",
            "epoch=  278 , loss=  0.015102200210094452\n",
            "epoch=  279 , loss=  0.014364431612193584\n",
            "epoch=  280 , loss=  0.013662589713931084\n",
            "epoch=  281 , loss=  0.012998441234230995\n",
            "epoch=  282 , loss=  0.01236268412321806\n",
            "epoch=  283 , loss=  0.011765684932470322\n",
            "epoch=  284 , loss=  0.011194944381713867\n",
            "epoch=  285 , loss=  0.010654067620635033\n",
            "epoch=  286 , loss=  0.010136396624147892\n",
            "epoch=  287 , loss=  0.009635846130549908\n",
            "epoch=  288 , loss=  0.009176756255328655\n",
            "epoch=  289 , loss=  0.008741158060729504\n",
            "epoch=  290 , loss=  0.00832095742225647\n",
            "epoch=  291 , loss=  0.00791875459253788\n",
            "epoch=  292 , loss=  0.007532867137342691\n",
            "epoch=  293 , loss=  0.007177148479968309\n",
            "epoch=  294 , loss=  0.006840525195002556\n",
            "epoch=  295 , loss=  0.006511230953037739\n",
            "epoch=  296 , loss=  0.006207222584635019\n",
            "epoch=  297 , loss=  0.005912718363106251\n",
            "epoch=  298 , loss=  0.00564130675047636\n",
            "epoch=  299 , loss=  0.005375998560339212\n",
            "epoch=  300 , loss=  0.005125480704009533\n",
            "epoch=  301 , loss=  0.004894189070910215\n",
            "epoch=  302 , loss=  0.004666706547141075\n",
            "epoch=  303 , loss=  0.0044554914347827435\n",
            "epoch=  304 , loss=  0.004247562028467655\n",
            "epoch=  305 , loss=  0.004051986616104841\n",
            "epoch=  306 , loss=  0.0038623372092843056\n",
            "epoch=  307 , loss=  0.0036924222949892282\n",
            "epoch=  308 , loss=  0.0035246305633336306\n",
            "epoch=  309 , loss=  0.0033676582388579845\n",
            "epoch=  310 , loss=  0.003217838006094098\n",
            "epoch=  311 , loss=  0.0030726068653166294\n",
            "epoch=  312 , loss=  0.002934703603386879\n",
            "epoch=  313 , loss=  0.0028041480109095573\n",
            "epoch=  314 , loss=  0.0026820916682481766\n",
            "epoch=  315 , loss=  0.0025663794949650764\n",
            "epoch=  316 , loss=  0.002452765591442585\n",
            "epoch=  317 , loss=  0.0023443184327334166\n",
            "epoch=  318 , loss=  0.002242181682959199\n",
            "epoch=  319 , loss=  0.002147408900782466\n",
            "epoch=  320 , loss=  0.0020564384758472443\n",
            "epoch=  321 , loss=  0.00196942500770092\n",
            "epoch=  322 , loss=  0.0018844825681298971\n",
            "epoch=  323 , loss=  0.0018066591583192348\n",
            "epoch=  324 , loss=  0.0017306326190009713\n",
            "epoch=  325 , loss=  0.001658010296523571\n",
            "epoch=  326 , loss=  0.0015901013975962996\n",
            "epoch=  327 , loss=  0.0015243521193042397\n",
            "epoch=  328 , loss=  0.0014626879710704088\n",
            "epoch=  329 , loss=  0.0014049331657588482\n",
            "epoch=  330 , loss=  0.0013465638039633632\n",
            "epoch=  331 , loss=  0.0012930325465276837\n",
            "epoch=  332 , loss=  0.0012438461417332292\n",
            "epoch=  333 , loss=  0.0011915524955838919\n",
            "epoch=  334 , loss=  0.0011466201394796371\n",
            "epoch=  335 , loss=  0.0010997867211699486\n",
            "epoch=  336 , loss=  0.001058387802913785\n",
            "epoch=  337 , loss=  0.0010197381488978863\n",
            "epoch=  338 , loss=  0.0009817744139581919\n",
            "epoch=  339 , loss=  0.0009429687634110451\n",
            "epoch=  340 , loss=  0.0009074322297237813\n",
            "epoch=  341 , loss=  0.0008755992166697979\n",
            "epoch=  342 , loss=  0.0008418598445132375\n",
            "epoch=  343 , loss=  0.0008125171880237758\n",
            "epoch=  344 , loss=  0.0007837601588107646\n",
            "epoch=  345 , loss=  0.0007553505129180849\n",
            "epoch=  346 , loss=  0.0007292754016816616\n",
            "epoch=  347 , loss=  0.0007023706566542387\n",
            "epoch=  348 , loss=  0.0006767438026145101\n",
            "epoch=  349 , loss=  0.0006543537601828575\n",
            "epoch=  350 , loss=  0.0006317718070931733\n",
            "epoch=  351 , loss=  0.0006107650697231293\n",
            "epoch=  352 , loss=  0.0005898085073567927\n",
            "epoch=  353 , loss=  0.0005693887360394001\n",
            "epoch=  354 , loss=  0.0005509020993486047\n",
            "epoch=  355 , loss=  0.0005322212819010019\n",
            "epoch=  356 , loss=  0.0005151052610017359\n",
            "epoch=  357 , loss=  0.000497399945743382\n",
            "epoch=  358 , loss=  0.0004823078343179077\n",
            "epoch=  359 , loss=  0.00046571920393034816\n",
            "epoch=  360 , loss=  0.0004516038461588323\n",
            "epoch=  361 , loss=  0.0004370918031781912\n",
            "epoch=  362 , loss=  0.0004233142244629562\n",
            "epoch=  363 , loss=  0.0004099029174540192\n",
            "epoch=  364 , loss=  0.00039715084130875766\n",
            "epoch=  365 , loss=  0.0003847680345643312\n",
            "epoch=  366 , loss=  0.00037328340113162994\n",
            "epoch=  367 , loss=  0.00036240683402866125\n",
            "epoch=  368 , loss=  0.0003524563508108258\n",
            "epoch=  369 , loss=  0.0003412388323340565\n",
            "epoch=  370 , loss=  0.0003308173909317702\n",
            "epoch=  371 , loss=  0.0003217689227312803\n",
            "epoch=  372 , loss=  0.000312492047669366\n",
            "epoch=  373 , loss=  0.0003033386019524187\n",
            "epoch=  374 , loss=  0.0002946936874650419\n",
            "epoch=  375 , loss=  0.0002860311360564083\n",
            "epoch=  376 , loss=  0.00027798255905508995\n",
            "epoch=  377 , loss=  0.0002699707692954689\n",
            "epoch=  378 , loss=  0.0002626047353260219\n",
            "epoch=  379 , loss=  0.0002543844166211784\n",
            "epoch=  380 , loss=  0.0002476958907209337\n",
            "epoch=  381 , loss=  0.00024085817858576775\n",
            "epoch=  382 , loss=  0.00023447364219464362\n",
            "epoch=  383 , loss=  0.00022812388488091528\n",
            "epoch=  384 , loss=  0.0002221586328232661\n",
            "epoch=  385 , loss=  0.00021597491286229342\n",
            "epoch=  386 , loss=  0.00021057264530099928\n",
            "epoch=  387 , loss=  0.00020503975974861532\n",
            "epoch=  388 , loss=  0.000199873888050206\n",
            "epoch=  389 , loss=  0.00019437572336755693\n",
            "epoch=  390 , loss=  0.0001896743633551523\n",
            "epoch=  391 , loss=  0.0001848597457865253\n",
            "epoch=  392 , loss=  0.00018029430066235363\n",
            "epoch=  393 , loss=  0.00017590918287169188\n",
            "epoch=  394 , loss=  0.00017133056826423854\n",
            "epoch=  395 , loss=  0.0001672059006523341\n",
            "epoch=  396 , loss=  0.0001630413462407887\n",
            "epoch=  397 , loss=  0.00015884669846855104\n",
            "epoch=  398 , loss=  0.00015506577619817108\n",
            "epoch=  399 , loss=  0.00015117939619813114\n",
            "epoch=  400 , loss=  0.00014827621635049582\n",
            "epoch=  401 , loss=  0.00014468177687376738\n",
            "epoch=  402 , loss=  0.00014158546400722116\n",
            "epoch=  403 , loss=  0.0001377265725750476\n",
            "epoch=  404 , loss=  0.0001350090024061501\n",
            "epoch=  405 , loss=  0.00013182427210267633\n",
            "epoch=  406 , loss=  0.00012883635645266622\n",
            "epoch=  407 , loss=  0.00012607377720996737\n",
            "epoch=  408 , loss=  0.000123106554383412\n",
            "epoch=  409 , loss=  0.00012088205403415486\n",
            "epoch=  410 , loss=  0.00011774428276112303\n",
            "epoch=  411 , loss=  0.00011525707668624818\n",
            "epoch=  412 , loss=  0.00011277470184722915\n",
            "epoch=  413 , loss=  0.0001104263064917177\n",
            "epoch=  414 , loss=  0.00010823323100339621\n",
            "epoch=  415 , loss=  0.0001059590867953375\n",
            "epoch=  416 , loss=  0.00010343561007175595\n",
            "epoch=  417 , loss=  0.00010124743857886642\n",
            "epoch=  418 , loss=  9.948052320396528e-05\n",
            "epoch=  419 , loss=  9.757577936397865e-05\n",
            "epoch=  420 , loss=  9.557943121762946e-05\n",
            "epoch=  421 , loss=  9.350587060907856e-05\n",
            "epoch=  422 , loss=  9.174021397484466e-05\n",
            "epoch=  423 , loss=  9.017310367198661e-05\n",
            "epoch=  424 , loss=  8.818972855806351e-05\n",
            "epoch=  425 , loss=  8.655279088998213e-05\n",
            "epoch=  426 , loss=  8.537044050171971e-05\n",
            "epoch=  427 , loss=  8.319351763930172e-05\n",
            "epoch=  428 , loss=  8.15640960354358e-05\n",
            "epoch=  429 , loss=  8.000795060070232e-05\n",
            "epoch=  430 , loss=  7.84779986133799e-05\n",
            "epoch=  431 , loss=  7.712875230936334e-05\n",
            "epoch=  432 , loss=  7.601899415021762e-05\n",
            "epoch=  433 , loss=  7.468307740055025e-05\n",
            "epoch=  434 , loss=  7.298888522200286e-05\n",
            "epoch=  435 , loss=  7.196109800133854e-05\n",
            "epoch=  436 , loss=  7.06451537553221e-05\n",
            "epoch=  437 , loss=  6.929998198756948e-05\n",
            "epoch=  438 , loss=  6.826905155321583e-05\n",
            "epoch=  439 , loss=  6.673697498627007e-05\n",
            "epoch=  440 , loss=  6.545747601194307e-05\n",
            "epoch=  441 , loss=  6.435747491195798e-05\n",
            "epoch=  442 , loss=  6.324471178231761e-05\n",
            "epoch=  443 , loss=  6.211571599124e-05\n",
            "epoch=  444 , loss=  6.12097283010371e-05\n",
            "epoch=  445 , loss=  6.0084039432695135e-05\n",
            "epoch=  446 , loss=  5.889335079700686e-05\n",
            "epoch=  447 , loss=  5.8071891544386744e-05\n",
            "epoch=  448 , loss=  5.719792170566507e-05\n",
            "epoch=  449 , loss=  5.620750380330719e-05\n",
            "epoch=  450 , loss=  5.551610956899822e-05\n",
            "epoch=  451 , loss=  5.4582789744017646e-05\n",
            "epoch=  452 , loss=  5.3773008403368294e-05\n",
            "epoch=  453 , loss=  5.273828355711885e-05\n",
            "epoch=  454 , loss=  5.203728869673796e-05\n",
            "epoch=  455 , loss=  5.138951382832602e-05\n",
            "epoch=  456 , loss=  5.095489541417919e-05\n",
            "epoch=  457 , loss=  5.0233509682584554e-05\n",
            "epoch=  458 , loss=  4.934627941111103e-05\n",
            "epoch=  459 , loss=  4.8696314479457214e-05\n",
            "epoch=  460 , loss=  4.7825062210904434e-05\n",
            "epoch=  461 , loss=  4.697952317656018e-05\n",
            "epoch=  462 , loss=  4.6400135033763945e-05\n",
            "epoch=  463 , loss=  4.563581387628801e-05\n",
            "epoch=  464 , loss=  4.51406194770243e-05\n",
            "epoch=  465 , loss=  4.4508658902486786e-05\n",
            "epoch=  466 , loss=  4.392539267428219e-05\n",
            "epoch=  467 , loss=  4.346025161794387e-05\n",
            "epoch=  468 , loss=  4.290567085263319e-05\n",
            "epoch=  469 , loss=  4.2144722101511434e-05\n",
            "epoch=  470 , loss=  4.1578914533602074e-05\n",
            "epoch=  471 , loss=  4.099818761460483e-05\n",
            "epoch=  472 , loss=  4.0207774873124436e-05\n",
            "epoch=  473 , loss=  3.981656482210383e-05\n",
            "epoch=  474 , loss=  3.920401286450215e-05\n",
            "epoch=  475 , loss=  3.8822054193587974e-05\n",
            "epoch=  476 , loss=  3.83735605282709e-05\n",
            "epoch=  477 , loss=  3.787282548728399e-05\n",
            "epoch=  478 , loss=  3.746945731109008e-05\n",
            "epoch=  479 , loss=  3.7018802686361596e-05\n",
            "epoch=  480 , loss=  3.670483783935197e-05\n",
            "epoch=  481 , loss=  3.619553899625316e-05\n",
            "epoch=  482 , loss=  3.561338235158473e-05\n",
            "epoch=  483 , loss=  3.501410537865013e-05\n",
            "epoch=  484 , loss=  3.4664033591980115e-05\n",
            "epoch=  485 , loss=  3.421741348574869e-05\n",
            "epoch=  486 , loss=  3.3942436857614666e-05\n",
            "epoch=  487 , loss=  3.354214277351275e-05\n",
            "epoch=  488 , loss=  3.309845851617865e-05\n",
            "epoch=  489 , loss=  3.275793278589845e-05\n",
            "epoch=  490 , loss=  3.2408133847638965e-05\n",
            "epoch=  491 , loss=  3.197177647962235e-05\n",
            "epoch=  492 , loss=  3.148433461319655e-05\n",
            "epoch=  493 , loss=  3.109088720520958e-05\n",
            "epoch=  494 , loss=  3.063301119254902e-05\n",
            "epoch=  495 , loss=  3.0252140277298167e-05\n",
            "epoch=  496 , loss=  2.9866681870771572e-05\n",
            "epoch=  497 , loss=  2.9423024898278527e-05\n",
            "epoch=  498 , loss=  2.9037277272436768e-05\n",
            "epoch=  499 , loss=  2.876316284528002e-05\n"
          ],
          "name": "stdout"
        }
      ]
    },
    {
      "cell_type": "markdown",
      "metadata": {
        "id": "ycwxAPHZLNST",
        "colab_type": "text"
      },
      "source": [
        "\n",
        "\n",
        "---\n",
        "## Question 12\n",
        "\n",
        "In the code above, why do we have 2 in '2.0*(y_pred - y)`?\n",
        "### *That 2 comes up we take derivative of the loss function (which has a power of 2) to compute the gradients.*\n",
        "\n",
        "## Question 13\n",
        "In the code above, what does `grad_h[h < 0] = 0` signify?\n",
        "### *It signifies RELU Function.*\n",
        "\n",
        "\n",
        "## Question 14\n",
        "In the code above, how many \"epochs\" have we trained the model for? \n",
        "### 500\n",
        "\n",
        "## Question 15\n",
        "In the code above, if we take the trained model, and run it on fresh inputs, the trained model will be able to predict fresh output with high accuracy. \n",
        "### *Not necessarily, because it might be possible that the fresh input follow some pattern that is completely different from the data on which the model was trained on, and thus leading to low accuracy on prediction.*\n",
        "\n",
        "## Question 16\n",
        "In the code above, if we dont use clone in `grad_h = grad_h_relu.clone()` the model will still train without any issues. \n",
        "### Clone returns a copy of the self tensor. Gradients propagating to the cloned tensor propagates to the original tensor. When we use clone it will back propagate till the input unless we use detach. Tensor.clone()creates a copy of tensor that imitates the original tensor's requires_grad field."
      ]
    }
  ]
}