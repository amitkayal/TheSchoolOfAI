{
  "nbformat": 4,
  "nbformat_minor": 0,
  "metadata": {
    "colab": {
      "name": "Session20.ipynb",
      "provenance": [],
      "collapsed_sections": [],
      "toc_visible": true
    },
    "kernelspec": {
      "name": "python3",
      "display_name": "Python 3"
    },
    "accelerator": "GPU"
  },
  "cells": [
    {
      "cell_type": "markdown",
      "metadata": {
        "id": "dzZ7saxz9y7-",
        "colab_type": "text"
      },
      "source": [
        "# Assignment 20: NEURAL WORD EMBEDDINGS\n",
        "\n",
        "1. Refer to the code mentioned on pages: 182-195 of this BOOK http://faculty.neu.edu.cn/yury/AAI/Textbook/Deep%20Learning%20with%20Python.pdf\n",
        "\n",
        "2. Repeat the same code while adding code comments. \n",
        "3. Train the GLOVE based model with 8000 samples instead of 200. \n",
        "4. Submit on GitHub and share the link. \n",
        "5. Mention your results along with your training and validation charts on the ReadMe page.\n",
        "\n",
        "\n",
        "---\n",
        "**Word Embedding** => Collective term for models that learned to map a set of words or phrases in a vocabulary to vectors of numerical values.\n"
      ]
    },
    {
      "cell_type": "markdown",
      "metadata": {
        "id": "vWSpUtj3lK_6",
        "colab_type": "text"
      },
      "source": [
        "# Training the model without pretrained word embeddings"
      ]
    },
    {
      "cell_type": "markdown",
      "metadata": {
        "id": "Rhe1_sXwlIRj",
        "colab_type": "text"
      },
      "source": [
        "### Loading the IMDB data for use with an Embedding layer"
      ]
    },
    {
      "cell_type": "code",
      "metadata": {
        "id": "NxlB0tGdk6as",
        "colab_type": "code",
        "colab": {}
      },
      "source": [
        "from keras.datasets import imdb\n",
        "from keras import preprocessing\n",
        "\n",
        "# number of words to consider as features\n",
        "max_features = 10000\n",
        "\n",
        "# cuts off the text after 20 number of words\n",
        "maxlen = 20\n",
        "\n",
        "# loads the data as lists of integer\n",
        "(x_train, y_train), (x_test, y_test) = imdb.load_data(num_words=max_features)\n",
        "\n",
        "x_train = preprocessing.sequence.pad_sequences(x_train, maxlen=maxlen)\n",
        "x_test = preprocessing.sequence.pad_sequences(x_test, maxlen=maxlen)"
      ],
      "execution_count": 0,
      "outputs": []
    },
    {
      "cell_type": "markdown",
      "metadata": {
        "id": "JcTMNZ4SyHO6",
        "colab_type": "text"
      },
      "source": [
        "### Using an Embedding layer and classifier on the IMDB data"
      ]
    },
    {
      "cell_type": "code",
      "metadata": {
        "id": "A28L_qt0mBFL",
        "colab_type": "code",
        "colab": {}
      },
      "source": [
        "# The embedding layer \n",
        "from keras.layers import Embedding\n",
        "# the embedding layer take at least two arguments: the number of possible tokens (here, 1000: 1 + max word index) and the dimensionality of the embeddings (here, 64).\n",
        "embedding_layer = Embedding(1000, 64)"
      ],
      "execution_count": 0,
      "outputs": []
    },
    {
      "cell_type": "code",
      "metadata": {
        "id": "aj2-FOAQlQYx",
        "colab_type": "code",
        "outputId": "77d6e477-0df3-4bed-a797-32dd640d623e",
        "colab": {
          "base_uri": "https://localhost:8080/",
          "height": 638
        }
      },
      "source": [
        "from keras.models import Sequential\n",
        "from keras.layers import Flatten, Dense\n",
        "\n",
        "model = Sequential()\n",
        "# specifies the max input length to the Embedding layer so you can later flatten the embedded inputs. \n",
        "# After the Embedding layer, the activations have shape (samples, maxlen, 8).\n",
        "model.add(Embedding(10000, 8, input_length=maxlen))\n",
        "\n",
        "# flattens the 3D tensor of embeddings into a 2D tensor of shape (Samples, maxlen*8)\n",
        "model.add(Flatten())\n",
        "\n",
        "# adds the classifier on top\n",
        "model.add(Dense(1, activation='sigmoid'))\n",
        "model.compile(optimizer='rmsprop', loss='binary_crossentropy', metrics=['acc'])\n",
        "model.summary()\n",
        "\n",
        "history = model.fit(x_train, y_train,\n",
        "                    epochs=10,\n",
        "                    batch_size=32,\n",
        "                    validation_split=0.2)"
      ],
      "execution_count": 65,
      "outputs": [
        {
          "output_type": "stream",
          "text": [
            "Model: \"sequential_11\"\n",
            "_________________________________________________________________\n",
            "Layer (type)                 Output Shape              Param #   \n",
            "=================================================================\n",
            "embedding_12 (Embedding)     (None, 20, 8)             80000     \n",
            "_________________________________________________________________\n",
            "flatten_10 (Flatten)         (None, 160)               0         \n",
            "_________________________________________________________________\n",
            "dense_17 (Dense)             (None, 1)                 161       \n",
            "=================================================================\n",
            "Total params: 80,161\n",
            "Trainable params: 80,161\n",
            "Non-trainable params: 0\n",
            "_________________________________________________________________\n",
            "Train on 20000 samples, validate on 5000 samples\n",
            "Epoch 1/10\n",
            "20000/20000 [==============================] - 2s 125us/step - loss: 0.6631 - acc: 0.6330 - val_loss: 0.6071 - val_acc: 0.6972\n",
            "Epoch 2/10\n",
            "20000/20000 [==============================] - 2s 105us/step - loss: 0.5309 - acc: 0.7542 - val_loss: 0.5202 - val_acc: 0.7352\n",
            "Epoch 3/10\n",
            "20000/20000 [==============================] - 2s 101us/step - loss: 0.4577 - acc: 0.7892 - val_loss: 0.4971 - val_acc: 0.7516\n",
            "Epoch 4/10\n",
            "20000/20000 [==============================] - 2s 100us/step - loss: 0.4217 - acc: 0.8080 - val_loss: 0.4927 - val_acc: 0.7558\n",
            "Epoch 5/10\n",
            "20000/20000 [==============================] - 2s 102us/step - loss: 0.3961 - acc: 0.8211 - val_loss: 0.4927 - val_acc: 0.7570\n",
            "Epoch 6/10\n",
            "20000/20000 [==============================] - 2s 110us/step - loss: 0.3761 - acc: 0.8332 - val_loss: 0.4958 - val_acc: 0.7572\n",
            "Epoch 7/10\n",
            "20000/20000 [==============================] - 2s 104us/step - loss: 0.3582 - acc: 0.8442 - val_loss: 0.5006 - val_acc: 0.7592\n",
            "Epoch 8/10\n",
            "20000/20000 [==============================] - 2s 111us/step - loss: 0.3414 - acc: 0.8523 - val_loss: 0.5064 - val_acc: 0.7574\n",
            "Epoch 9/10\n",
            "20000/20000 [==============================] - 2s 98us/step - loss: 0.3259 - acc: 0.8623 - val_loss: 0.5137 - val_acc: 0.7580\n",
            "Epoch 10/10\n",
            "20000/20000 [==============================] - 2s 106us/step - loss: 0.3109 - acc: 0.8703 - val_loss: 0.5202 - val_acc: 0.7552\n"
          ],
          "name": "stdout"
        }
      ]
    },
    {
      "cell_type": "code",
      "metadata": {
        "id": "aDwbSd5KBbwp",
        "colab_type": "code",
        "colab": {
          "base_uri": "https://localhost:8080/",
          "height": 544
        },
        "outputId": "cfbde344-092c-4ad3-d08d-9a82c93f868a"
      },
      "source": [
        "import matplotlib.pyplot as plt\n",
        "\n",
        "acc = history.history['acc']\n",
        "val_acc = history.history['val_acc']\n",
        "loss = history.history['loss']\n",
        "val_loss = history.history['val_loss']\n",
        "\n",
        "epochs = range(1, len(acc) + 1)\n",
        "\n",
        "plt.plot(epochs, acc, 'bo', label='Training acc')\n",
        "plt.plot(epochs, val_acc, 'b', label='Validation acc')\n",
        "plt.title('Training and validation accuracy')\n",
        "plt.legend()\n",
        "\n",
        "plt.figure()\n",
        "\n",
        "plt.plot(epochs, loss, 'bo', label='Training loss')\n",
        "plt.plot(epochs, val_loss, 'b', label='Validation loss')\n",
        "plt.title('Training and validation loss')\n",
        "plt.legend()\n",
        "\n",
        "plt.show()"
      ],
      "execution_count": 66,
      "outputs": [
        {
          "output_type": "display_data",
          "data": {
            "image/png": "[encoded data removed]",
            "text/plain": [
              "<Figure size 432x288 with 1 Axes>"
            ]
          },
          "metadata": {
            "tags": []
          }
        },
        {
          "output_type": "display_data",
          "data": {
            "image/png": "[encoded data removed]",
            "text/plain": [
              "<Figure size 432x288 with 1 Axes>"
            ]
          },
          "metadata": {
            "tags": []
          }
        }
      ]
    },
    {
      "cell_type": "markdown",
      "metadata": {
        "id": "15Iw4e19lYQ7",
        "colab_type": "text"
      },
      "source": [
        "#  Using pretrained word embeddings \n"
      ]
    },
    {
      "cell_type": "markdown",
      "metadata": {
        "id": "aX86Bjq2lcH5",
        "colab_type": "text"
      },
      "source": [
        "### Downloading the IMDB data as raw text and uncompress it\n",
        "Download Link: http://mng.nz/0tIo\n",
        "\n"
      ]
    },
    {
      "cell_type": "code",
      "metadata": {
        "id": "lC75A7uFrrsp",
        "colab_type": "code",
        "outputId": "96d6f2ec-316a-499e-c20e-be3a82e44381",
        "colab": {
          "base_uri": "https://localhost:8080/",
          "height": 212
        }
      },
      "source": [
        "!wget 'http://s3.amazonaws.com/text-datasets/aclImdb.zip'\n",
        "!unzip -q \"/content/aclImdb.zip\""
      ],
      "execution_count": 0,
      "outputs": [
        {
          "output_type": "stream",
          "text": [
            "--2020-01-20 16:01:43--  http://s3.amazonaws.com/text-datasets/aclImdb.zip\n",
            "Resolving s3.amazonaws.com (s3.amazonaws.com)... 52.216.138.229\n",
            "Connecting to s3.amazonaws.com (s3.amazonaws.com)|52.216.138.229|:80... connected.\n",
            "HTTP request sent, awaiting response... 200 OK\n",
            "Length: 60711700 (58M) [application/zip]\n",
            "Saving to: ‘aclImdb.zip’\n",
            "\n",
            "aclImdb.zip         100%[===================>]  57.90M  76.1MB/s    in 0.8s    \n",
            "\n",
            "2020-01-20 16:01:44 (76.1 MB/s) - ‘aclImdb.zip’ saved [60711700/60711700]\n",
            "\n"
          ],
          "name": "stdout"
        }
      ]
    },
    {
      "cell_type": "markdown",
      "metadata": {
        "id": "ud1a7TKWt2ms",
        "colab_type": "text"
      },
      "source": [
        "###  Collect the individual training reviews into a list of strings, one string per review. You’ll also collect the review labels (positive/negative) into a labels list. "
      ]
    },
    {
      "cell_type": "code",
      "metadata": {
        "id": "djEf5nu0rbep",
        "colab_type": "code",
        "colab": {}
      },
      "source": [
        "import os\n",
        "\n",
        "imdb_dir = '/content/aclImdb'\n",
        "train_dir = os.path.join(imdb_dir, 'train')\n",
        "\n",
        "labels = []\n",
        "texts = []\n",
        "\n",
        "for label_type in ['neg', 'pos']:\n",
        "  dir_name = os.path.join(train_dir, label_type)\n",
        "  for fname in os.listdir(dir_name):\n",
        "    if fname[-4:] == '.txt':\n",
        "      f = open(os.path.join(dir_name, fname))\n",
        "      texts.append(f.read())\n",
        "      f.close()\n",
        "      if label_type == 'neg':\n",
        "        labels.append(0)\n",
        "      else:\n",
        "        labels.append(1)"
      ],
      "execution_count": 0,
      "outputs": []
    },
    {
      "cell_type": "markdown",
      "metadata": {
        "id": "NTVQvsi5rfwF",
        "colab_type": "text"
      },
      "source": [
        "### Tokenizing the text of the raw IMDB data\n",
        "Vectorize the text and prepare a training and validation split"
      ]
    },
    {
      "cell_type": "code",
      "metadata": {
        "id": "SVgBNepgriGC",
        "colab_type": "code",
        "colab": {
          "base_uri": "https://localhost:8080/",
          "height": 70
        },
        "outputId": "c08ee52c-f38e-4e11-816d-cae531b607fa"
      },
      "source": [
        "from keras.preprocessing.text import Tokenizer\n",
        "from keras.preprocessing.sequence import pad_sequences\n",
        "import numpy as np\n",
        "\n",
        "maxlen = 100 # Cuts off reviews after 100 words\n",
        "training_samples = 200 # Train only on 200 samples\n",
        "validation_samples = 10000 # Validates on 10,000 samples\n",
        "max_words = 10000 # Considers only the top 10,000 words in the dataset\n",
        "\n",
        "tokenizer = Tokenizer(num_words=max_words)\n",
        "tokenizer.fit_on_texts(texts)\n",
        "sequences = tokenizer.texts_to_sequences(texts)\n",
        "word_index = tokenizer.word_index\n",
        "print('Found %s unique tokens.' % len(word_index))\n",
        "\n",
        "data = pad_sequences(sequences, maxlen=maxlen)\n",
        "\n",
        "labels = np.asarray(labels)\n",
        "print('Shape of data tensor:', data.shape)\n",
        "print('Shape of label tensor:', labels.shape)\n",
        "\n",
        "# Splits the data into a training set and a validation set, but first shuffles \n",
        "# the data because you're starting with data in which samples are ordered\n",
        "# (all negatives first, then all positives).\n",
        "indices = np.arange(data.shape[0])\n",
        "np.random.shuffle(indices)\n",
        "data = data[indices]\n",
        "labels = labels[indices]\n",
        "\n",
        "x_train = data[:training_samples]\n",
        "y_train = labels[:training_samples]\n",
        "\n",
        "x_val = data[training_samples: training_samples + validation_samples]\n",
        "y_val = labels[training_samples: training_samples + validation_samples]"
      ],
      "execution_count": 52,
      "outputs": [
        {
          "output_type": "stream",
          "text": [
            "Found 88582 unique tokens.\n",
            "Shape of data tensor: (25000, 100)\n",
            "Shape of label tensor: (25000,)\n"
          ],
          "name": "stdout"
        }
      ]
    },
    {
      "cell_type": "markdown",
      "metadata": {
        "id": "og5jRr72rlqa",
        "colab_type": "text"
      },
      "source": [
        "### Download the Glove word embeddings\n",
        "**GloVe: Global Vectors for Word Representation**\n",
        "GloVe is an unsupervised learning algorithm for obtaining vector representations for words. Training is performed on aggregated global word-word co-occurrence statistics from a corpus, and the resulting representations showcase interesting linear substructures of the word vector space.\n",
        "\n",
        "They provided various models from 25, 50, 100, 200 to 300 dimensions based on 2, 6, 42, 840 billion tokens.\n",
        "\n",
        "\n",
        "1. Go to https://nlp.stanford.edu/projects/glove, and download the precomputed embeddings from 2014 English Wikipedia. It’s an 822 MB zip file called glove.6B.zip, containing 100-dimensional embedding vectors for 400,000 words (or nonword tokens). Unzip it. \n",
        "\n",
        "2. Parse the unzipped file (a .txt file) to build an index that maps words (as strings) to their vector representation (as number vectors)."
      ]
    },
    {
      "cell_type": "code",
      "metadata": {
        "id": "yeaQis75zlsm",
        "colab_type": "code",
        "colab": {}
      },
      "source": [
        "!wget \"http://nlp.stanford.edu/data/glove.6B.zip\"\n",
        "!unzip -q \"/content/glove.6B.zip\" -O \"glove.6B\""
      ],
      "execution_count": 0,
      "outputs": []
    },
    {
      "cell_type": "code",
      "metadata": {
        "id": "LRO-GOFNrm9X",
        "colab_type": "code",
        "colab": {
          "base_uri": "https://localhost:8080/",
          "height": 34
        },
        "outputId": "29fc6429-f387-47ce-89e9-fae9c4580a3e"
      },
      "source": [
        "glove_dir = '/content/glove.6B'\n",
        "\n",
        "embeddings_index = {}\n",
        "f = open(os.path.join(glove_dir, 'glove.6B.100d.txt'))\n",
        "for line in f:\n",
        "  values = line.split()\n",
        "  word = values[0]\n",
        "  coefs = np.asarray(values[1:], dtype='float32')\n",
        "  embeddings_index[word] = coefs\n",
        "f.close()\n",
        "print('Found %s word vectors.' %len(embeddings_index))"
      ],
      "execution_count": 53,
      "outputs": [
        {
          "output_type": "stream",
          "text": [
            "Found 400000 word vectors.\n"
          ],
          "name": "stdout"
        }
      ]
    },
    {
      "cell_type": "code",
      "metadata": {
        "id": "Tw5mWHGywfJU",
        "colab_type": "code",
        "colab": {}
      },
      "source": [
        "# Preparing the GloVe word-embeddings matrix\n",
        "embedding_dim = 100\n",
        "embedding_matrix = np.zeros((max_words, embedding_dim))\n",
        "\n",
        "for word, i in word_index.items():\n",
        "  if i < max_words:\n",
        "    embedding_vector = embeddings_index.get(word)\n",
        "    if embedding_vector is not None:\n",
        "      # words not found in the embedding index will all be zeros\n",
        "      embedding_matrix[i] = embedding_vector"
      ],
      "execution_count": 0,
      "outputs": []
    },
    {
      "cell_type": "code",
      "metadata": {
        "id": "hh1tcwfJ6rMg",
        "colab_type": "code",
        "colab": {
          "base_uri": "https://localhost:8080/",
          "height": 301
        },
        "outputId": "328c08c0-752d-4c58-a2e0-eb3874782789"
      },
      "source": [
        "# model definition\n",
        "from keras.models import Sequential\n",
        "from keras.layers import Embedding, Flatten, Dense\n",
        "\n",
        "model = Sequential()\n",
        "model.add(Embedding(max_words, embedding_dim, input_length=maxlen))\n",
        "model.add(Flatten())\n",
        "model.add(Dense(32, activation='relu'))\n",
        "model.add(Dense(1, activation='sigmoid'))\n",
        "model.summary()"
      ],
      "execution_count": 57,
      "outputs": [
        {
          "output_type": "stream",
          "text": [
            "Model: \"sequential_7\"\n",
            "_________________________________________________________________\n",
            "Layer (type)                 Output Shape              Param #   \n",
            "=================================================================\n",
            "embedding_7 (Embedding)      (None, 100, 100)          1000000   \n",
            "_________________________________________________________________\n",
            "flatten_6 (Flatten)          (None, 10000)             0         \n",
            "_________________________________________________________________\n",
            "dense_9 (Dense)              (None, 32)                320032    \n",
            "_________________________________________________________________\n",
            "dense_10 (Dense)             (None, 1)                 33        \n",
            "=================================================================\n",
            "Total params: 1,320,065\n",
            "Trainable params: 1,320,065\n",
            "Non-trainable params: 0\n",
            "_________________________________________________________________\n"
          ],
          "name": "stdout"
        }
      ]
    },
    {
      "cell_type": "code",
      "metadata": {
        "id": "yIYM1RE4wflj",
        "colab_type": "code",
        "colab": {
          "base_uri": "https://localhost:8080/",
          "height": 390
        },
        "outputId": "5d7e6f81-e99f-44ca-bd32-445dc444f527"
      },
      "source": [
        "# Loading pretrained word embeddings into the Embedding layer\n",
        "model.layers[0].set_weights([embedding_matrix])\n",
        "model.layers[0].trainable = False\n",
        "\n",
        "# TRAINING AND EVALUATING THE MODEL\n",
        "model.compile(optimizer='rmsprop',\n",
        "              loss='binary_crossentropy',\n",
        "              metrics=['acc'])\n",
        "history = model.fit(x_train, y_train, \n",
        "                    epochs = 10,\n",
        "                    batch_size=32,\n",
        "                    validation_data=(x_val, y_val)\n",
        "                    )\n",
        "model.save_weights('pre_trained_glove_model.h5')"
      ],
      "execution_count": 58,
      "outputs": [
        {
          "output_type": "stream",
          "text": [
            "Train on 200 samples, validate on 10000 samples\n",
            "Epoch 1/10\n",
            "200/200 [==============================] - 1s 4ms/step - loss: 3.5359 - acc: 0.6050 - val_loss: 7.8880 - val_acc: 0.5032\n",
            "Epoch 2/10\n",
            "200/200 [==============================] - 1s 3ms/step - loss: 4.3412 - acc: 0.5900 - val_loss: 0.9617 - val_acc: 0.5042\n",
            "Epoch 3/10\n",
            "200/200 [==============================] - 1s 3ms/step - loss: 0.4267 - acc: 0.7950 - val_loss: 1.8227 - val_acc: 0.5032\n",
            "Epoch 4/10\n",
            "200/200 [==============================] - 1s 3ms/step - loss: 0.4662 - acc: 0.7800 - val_loss: 0.8093 - val_acc: 0.5070\n",
            "Epoch 5/10\n",
            "200/200 [==============================] - 0s 2ms/step - loss: 0.1407 - acc: 0.9850 - val_loss: 1.1211 - val_acc: 0.4962\n",
            "Epoch 6/10\n",
            "200/200 [==============================] - 0s 2ms/step - loss: 0.2745 - acc: 0.9000 - val_loss: 0.8536 - val_acc: 0.5032\n",
            "Epoch 7/10\n",
            "200/200 [==============================] - 0s 2ms/step - loss: 0.0403 - acc: 1.0000 - val_loss: 1.0632 - val_acc: 0.5045\n",
            "Epoch 8/10\n",
            "200/200 [==============================] - 0s 2ms/step - loss: 0.0202 - acc: 1.0000 - val_loss: 0.9271 - val_acc: 0.5022\n",
            "Epoch 9/10\n",
            "200/200 [==============================] - 0s 2ms/step - loss: 0.1163 - acc: 0.9600 - val_loss: 2.5577 - val_acc: 0.4964\n",
            "Epoch 10/10\n",
            "200/200 [==============================] - 1s 3ms/step - loss: 0.2717 - acc: 0.8950 - val_loss: 0.9034 - val_acc: 0.5013\n"
          ],
          "name": "stdout"
        }
      ]
    },
    {
      "cell_type": "markdown",
      "metadata": {
        "id": "V7QDr95vwtmG",
        "colab_type": "text"
      },
      "source": [
        "###  Plotting the results"
      ]
    },
    {
      "cell_type": "code",
      "metadata": {
        "id": "pL8mqlKFws5c",
        "colab_type": "code",
        "colab": {
          "base_uri": "https://localhost:8080/",
          "height": 544
        },
        "outputId": "40cee9db-c3ba-451e-c5b1-a3584fc6a0bd"
      },
      "source": [
        "import matplotlib.pyplot as plt\n",
        "\n",
        "acc = history.history['acc']\n",
        "val_acc = history.history['val_acc']\n",
        "loss = history.history['loss']\n",
        "val_loss = history.history['val_loss']\n",
        "\n",
        "epochs = range(1, len(acc) + 1)\n",
        "\n",
        "plt.plot(epochs, acc, 'bo', label='Training acc')\n",
        "plt.plot(epochs, val_acc, 'b', label='Validation acc')\n",
        "plt.title('Training and validation accuracy')\n",
        "plt.legend()\n",
        "\n",
        "plt.figure()\n",
        "\n",
        "plt.plot(epochs, loss, 'bo', label='Training loss')\n",
        "plt.plot(epochs, val_loss, 'b', label='Validation loss')\n",
        "plt.title('Training and validation loss')\n",
        "plt.legend()\n",
        "\n",
        "plt.show()"
      ],
      "execution_count": 59,
      "outputs": [
        {
          "output_type": "display_data",
          "data": {
            "image/png": "[encoded data removed]",
            "text/plain": [
              "<Figure size 432x288 with 1 Axes>"
            ]
          },
          "metadata": {
            "tags": []
          }
        },
        {
          "output_type": "display_data",
          "data": {
            "image/png": "[encoded data removed]",
            "text/plain": [
              "<Figure size 432x288 with 1 Axes>"
            ]
          },
          "metadata": {
            "tags": []
          }
        }
      ]
    },
    {
      "cell_type": "markdown",
      "metadata": {
        "id": "XKiichld7wuy",
        "colab_type": "text"
      },
      "source": [
        "## Train the GLOVE based model with 8000 samples instead of 200. "
      ]
    },
    {
      "cell_type": "code",
      "metadata": {
        "id": "j3-o6Hju7yWP",
        "colab_type": "code",
        "colab": {
          "base_uri": "https://localhost:8080/",
          "height": 1000
        },
        "outputId": "14be310a-ff62-49e6-e32a-ae49ec4bd26e"
      },
      "source": [
        "from keras.preprocessing.text import Tokenizer\n",
        "from keras.preprocessing.sequence import pad_sequences\n",
        "import numpy as np\n",
        "\n",
        "maxlen = 100 # Cuts off reviews after 100 words\n",
        "training_samples = 8000 # Train only on 200 samples\n",
        "validation_samples = 10000 # Validates on 10,000 samples\n",
        "max_words = 10000 # Considers only the top 10,000 words in the dataset\n",
        "\n",
        "tokenizer = Tokenizer(num_words=max_words)\n",
        "tokenizer.fit_on_texts(texts)\n",
        "sequences = tokenizer.texts_to_sequences(texts)\n",
        "word_index = tokenizer.word_index\n",
        "print('Found %s unique tokens.' % len(word_index))\n",
        "\n",
        "data = pad_sequences(sequences, maxlen=maxlen)\n",
        "\n",
        "labels = np.asarray(labels)\n",
        "print('Shape of data tensor:', data.shape)\n",
        "print('Shape of label tensor:', labels.shape)\n",
        "\n",
        "# Splits the data into a training set and a validation set, but first shuffles \n",
        "# the data because you're starting with data in which samples are ordered\n",
        "# (all negatives first, then all positives).\n",
        "indices = np.arange(data.shape[0])\n",
        "np.random.shuffle(indices)\n",
        "data = data[indices]\n",
        "labels = labels[indices]\n",
        "\n",
        "x_train = data[:training_samples]\n",
        "y_train = labels[:training_samples]\n",
        "\n",
        "x_val = data[training_samples: training_samples + validation_samples]\n",
        "y_val = labels[training_samples: training_samples + validation_samples]\n",
        "\n",
        "###################################\n",
        "# model definition\n",
        "from keras.models import Sequential\n",
        "from keras.layers import Embedding, Flatten, Dense\n",
        "\n",
        "model = Sequential()\n",
        "model.add(Embedding(max_words, embedding_dim, input_length=maxlen))\n",
        "model.add(Flatten())\n",
        "model.add(Dense(32, activation='relu'))\n",
        "model.add(Dense(1, activation='sigmoid'))\n",
        "model.summary()\n",
        "\n",
        "###################################\n",
        "\n",
        "# Loading pretrained word embeddings into the Embedding layer\n",
        "model.layers[0].set_weights([embedding_matrix])\n",
        "model.layers[0].trainable = False\n",
        "\n",
        "###################################\n",
        "\n",
        "# TRAINING AND EVALUATING THE MODEL\n",
        "model.compile(optimizer='rmsprop',\n",
        "              loss='binary_crossentropy',\n",
        "              metrics=['acc'])\n",
        "history = model.fit(x_train, y_train, \n",
        "                    epochs = 10,\n",
        "                    batch_size=32,\n",
        "                    validation_data=(x_val, y_val)\n",
        "                    )\n",
        "model.save_weights('pre_trained_glove_model_800_Samples.h5')\n",
        "\n",
        "###################################\n",
        "\n",
        "import matplotlib.pyplot as plt\n",
        "\n",
        "acc = history.history['acc']\n",
        "val_acc = history.history['val_acc']\n",
        "loss = history.history['loss']\n",
        "val_loss = history.history['val_loss']\n",
        "\n",
        "epochs = range(1, len(acc) + 1)\n",
        "\n",
        "plt.plot(epochs, acc, 'bo', label='Training acc')\n",
        "plt.plot(epochs, val_acc, 'b', label='Validation acc')\n",
        "plt.title('Training and validation accuracy')\n",
        "plt.legend()\n",
        "\n",
        "plt.figure()\n",
        "\n",
        "plt.plot(epochs, loss, 'bo', label='Training loss')\n",
        "plt.plot(epochs, val_loss, 'b', label='Validation loss')\n",
        "plt.title('Training and validation loss')\n",
        "plt.legend()\n",
        "\n",
        "plt.show()\n",
        "###################################"
      ],
      "execution_count": 62,
      "outputs": [
        {
          "output_type": "stream",
          "text": [
            "Found 88582 unique tokens.\n",
            "Shape of data tensor: (25000, 100)\n",
            "Shape of label tensor: (25000,)\n",
            "Model: \"sequential_10\"\n",
            "_________________________________________________________________\n",
            "Layer (type)                 Output Shape              Param #   \n",
            "=================================================================\n",
            "embedding_10 (Embedding)     (None, 100, 100)          1000000   \n",
            "_________________________________________________________________\n",
            "flatten_9 (Flatten)          (None, 10000)             0         \n",
            "_________________________________________________________________\n",
            "dense_15 (Dense)             (None, 32)                320032    \n",
            "_________________________________________________________________\n",
            "dense_16 (Dense)             (None, 1)                 33        \n",
            "=================================================================\n",
            "Total params: 1,320,065\n",
            "Trainable params: 1,320,065\n",
            "Non-trainable params: 0\n",
            "_________________________________________________________________\n",
            "Train on 8000 samples, validate on 10000 samples\n",
            "Epoch 1/10\n",
            "8000/8000 [==============================] - 2s 205us/step - loss: 0.7108 - acc: 0.5040 - val_loss: 0.6932 - val_acc: 0.5010\n",
            "Epoch 2/10\n",
            "8000/8000 [==============================] - 1s 149us/step - loss: 0.6952 - acc: 0.5201 - val_loss: 0.6961 - val_acc: 0.4987\n",
            "Epoch 3/10\n",
            "8000/8000 [==============================] - 1s 142us/step - loss: 0.6777 - acc: 0.5783 - val_loss: 0.7195 - val_acc: 0.4987\n",
            "Epoch 4/10\n",
            "8000/8000 [==============================] - 1s 161us/step - loss: 0.6321 - acc: 0.6496 - val_loss: 0.7625 - val_acc: 0.4958\n",
            "Epoch 5/10\n",
            "8000/8000 [==============================] - 1s 151us/step - loss: 0.5834 - acc: 0.7017 - val_loss: 0.7945 - val_acc: 0.4978\n",
            "Epoch 6/10\n",
            "8000/8000 [==============================] - 1s 163us/step - loss: 0.5190 - acc: 0.7475 - val_loss: 0.8635 - val_acc: 0.4972\n",
            "Epoch 7/10\n",
            "8000/8000 [==============================] - 1s 165us/step - loss: 0.4437 - acc: 0.7969 - val_loss: 0.9121 - val_acc: 0.4962\n",
            "Epoch 8/10\n",
            "8000/8000 [==============================] - 1s 168us/step - loss: 0.3687 - acc: 0.8366 - val_loss: 1.0999 - val_acc: 0.4974\n",
            "Epoch 9/10\n",
            "8000/8000 [==============================] - 1s 171us/step - loss: 0.2911 - acc: 0.8818 - val_loss: 1.2994 - val_acc: 0.4932\n",
            "Epoch 10/10\n",
            "8000/8000 [==============================] - 1s 172us/step - loss: 0.2334 - acc: 0.9129 - val_loss: 1.4685 - val_acc: 0.4939\n"
          ],
          "name": "stdout"
        },
        {
          "output_type": "display_data",
          "data": {
            "image/png": "[encoded data removed]",
            "text/plain": [
              "<Figure size 432x288 with 1 Axes>"
            ]
          },
          "metadata": {
            "tags": []
          }
        },
        {
          "output_type": "display_data",
          "data": {
            "image/png": "[encoded data removed]",
            "text/plain": [
              "<Figure size 432x288 with 1 Axes>"
            ]
          },
          "metadata": {
            "tags": []
          }
        }
      ]
    }
  ]
}