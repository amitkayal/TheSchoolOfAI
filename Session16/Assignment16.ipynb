{
  "nbformat": 4,
  "nbformat_minor": 0,
  "metadata": {
    "colab": {
      "name": "Assignment16.ipynb",
      "provenance": [],
      "collapsed_sections": [],
      "toc_visible": true
    },
    "kernelspec": {
      "name": "python3",
      "display_name": "Python 3"
    },
    "accelerator": "GPU"
  },
  "cells": [
    {
      "cell_type": "markdown",
      "metadata": {
        "id": "SL3PI_DlUZK6",
        "colab_type": "text"
      },
      "source": [
        "# Assignment 16\n",
        "\n",
        "1. Collect 100 images of faces from online sources (you can use any existing database as well, but we need multiple faces)\n",
        "2. Please make sure that there are not too many faces in the image\n",
        "3. Classes are:  Front, Left, Right, Up, Down, UpLeft, UpRight, DownLeft, DownRight, Top, Back. Please make sure you have these kind of faces in your collection. Also please make sure that your LEFT is the LEFT of your screen. \n",
        "4. resize your images to 400x400\n",
        "5. Rename your images as img_001 to img_100. \n",
        "6. Annotate these objects using VGG Annotator (Links to an external site.) (using a local copy)\n",
        "7. Use K-means clustering to find out the top 4 anchor boxes\n",
        "8. Upload to github\n",
        "  * images in a zipped folder\n",
        "  * your annotation file (json)\n",
        "  * k-means code\n",
        "9. Add a readme file and show:\n",
        "  * few screenshots of your annotations\n",
        "  * your 4 bounding box dimensions\n",
        "\n",
        "Note: You will be using these images for your Face Recognition Session, so make sure your annotations are good."
      ]
    },
    {
      "cell_type": "markdown",
      "metadata": {
        "id": "WFleYRz1q2Bo",
        "colab_type": "text"
      },
      "source": [
        "### Getting the height and width of all the images to store in list."
      ]
    },
    {
      "cell_type": "code",
      "metadata": {
        "id": "sBhGoe2ke1BH",
        "colab_type": "code",
        "colab": {}
      },
      "source": [
        "zip_file_url = 'https://doc-0k-ag-docs.googleusercontent.com/docs/securesc/ha0ro937gcuc7l7deffksulhg5h7mbp1/g0kk0enai597lflqpquj83idrqt222nr/1574359200000/06632186555192968294/*/1e38waNUBwwqkiTuRuurysEUank5j-W8S?e=download'\n",
        "\n",
        "import requests, zipfile, io, os\n",
        "\n",
        "r = requests.get(zip_file_url)\n",
        "z = zipfile.ZipFile(io.BytesIO(r.content))\n",
        "z.extractall()\n",
        "########################################################################\n",
        "from PIL import Image\n",
        "\n",
        "image_widths = []\n",
        "image_heights = []\n",
        "for r, d, f in os.walk('/content/finalImages/'):\n",
        "    for file in sorted(f):\n",
        "      # print(file)\n",
        "      im = Image.open('/content/finalImages/'+ file)\n",
        "      width, height = im.size\n",
        "      image_widths.append(width)\n",
        "      image_heights.append(height)\n",
        "########################################################################"
      ],
      "execution_count": 0,
      "outputs": []
    },
    {
      "cell_type": "markdown",
      "metadata": {
        "id": "ZtzgXnRTq_LJ",
        "colab_type": "text"
      },
      "source": [
        "### Getting the height and width of bounding boxes from the JSON File abd store in list."
      ]
    },
    {
      "cell_type": "code",
      "metadata": {
        "id": "KZs5IlqyXco5",
        "colab_type": "code",
        "colab": {}
      },
      "source": [
        "import json\n",
        "with open('/content/faceImage100.json') as f:\n",
        "  data = json.load(f)\n",
        "\n",
        "bb_widths = []\n",
        "bb_heights = []\n",
        "\n",
        "for index, eachImage in enumerate(data[\"_via_img_metadata\"].values()): \n",
        "  for eachRegion in eachImage['regions']:\n",
        "    shape_attributes = eachRegion[\"shape_attributes\"]\n",
        "    bb_widths.append(shape_attributes['width']/image_widths[index])\n",
        "    bb_heights.append(shape_attributes['height']/image_heights[index])\n"
      ],
      "execution_count": 0,
      "outputs": []
    },
    {
      "cell_type": "markdown",
      "metadata": {
        "id": "H34Ip9ourPKh",
        "colab_type": "text"
      },
      "source": [
        "### Plotting graph for BB Heights VS BB Widths"
      ]
    },
    {
      "cell_type": "code",
      "metadata": {
        "id": "gO_tuArFm6ZA",
        "colab_type": "code",
        "colab": {
          "base_uri": "https://localhost:8080/",
          "height": 295
        },
        "outputId": "4035a3a8-820c-44c1-94b6-0f8e15d145db"
      },
      "source": [
        "################################\n",
        "import math\n",
        "import matplotlib.pyplot as plt\n",
        "\n",
        "plt.plot(bb_heights, bb_widths, 'ro') \n",
        "  \n",
        "# naming the x axis \n",
        "plt.xlabel('bb_heights') \n",
        "# naming the y axis \n",
        "plt.ylabel('bb_widths') \n",
        "  \n",
        "# giving a title to my graph \n",
        "plt.title('BB Heights VS BB Widths') \n",
        "  \n",
        "# function to show the plot \n",
        "plt.show() \n",
        "################################"
      ],
      "execution_count": 53,
      "outputs": [
        {
          "output_type": "display_data",
          "data": {
            "image/png": "[encoded data removed]",
            "text/plain": [
              "<Figure size 432x288 with 1 Axes>"
            ]
          },
          "metadata": {
            "tags": []
          }
        }
      ]
    },
    {
      "cell_type": "markdown",
      "metadata": {
        "id": "IapMi8iwrXoa",
        "colab_type": "text"
      },
      "source": [
        "### Plotting graph for BB Log Heights VS BB Log Widths"
      ]
    },
    {
      "cell_type": "code",
      "metadata": {
        "id": "k2WWp1IDohjT",
        "colab_type": "code",
        "colab": {
          "base_uri": "https://localhost:8080/",
          "height": 295
        },
        "outputId": "21ffa2aa-6443-42d0-80fe-70eaad6924b3"
      },
      "source": [
        "################################\n",
        "\n",
        "log_bb_heights = list(map(lambda x: math.log10(x), bb_heights))\n",
        "log_bb_widths = list(map(lambda x: math.log10(x), bb_widths))\n",
        "\n",
        "plt.plot(log_bb_heights, log_bb_widths, 'ro') \n",
        "  \n",
        "# naming the x axis \n",
        "plt.xlabel('log_bb_heights') \n",
        "# naming the y axis \n",
        "plt.ylabel('log_bb_widths') \n",
        "  \n",
        "# giving a title to my graph \n",
        "plt.title('BB Log Heights VS Log Widths') \n",
        "  \n",
        "# function to show the plot \n",
        "plt.show() \n",
        "# ##################################"
      ],
      "execution_count": 44,
      "outputs": [
        {
          "output_type": "display_data",
          "data": {
            "image/png": "[encoded data removed]",
            "text/plain": [
              "<Figure size 432x288 with 1 Axes>"
            ]
          },
          "metadata": {
            "tags": []
          }
        }
      ]
    },
    {
      "cell_type": "markdown",
      "metadata": {
        "id": "7q4E-VWXra8c",
        "colab_type": "text"
      },
      "source": [
        "### Using KMEAS algorithm to find the 4 bouding box dimensions."
      ]
    },
    {
      "cell_type": "code",
      "metadata": {
        "id": "dRwFdmVQeBG4",
        "colab_type": "code",
        "colab": {
          "base_uri": "https://localhost:8080/",
          "height": 105
        },
        "outputId": "a6b1d6e1-26e6-4a2b-a43a-b9132e2f2efb"
      },
      "source": [
        "# KMEANS K = 4\n",
        "\n",
        "from sklearn.cluster import KMeans\n",
        "import numpy as np\n",
        "\n",
        "list_for_kmeans = []\n",
        "for index, each in enumerate(bb_widths):\n",
        "  list_for_kmeans.append([bb_heights[index], bb_widths[index]])\n",
        "\n",
        "kmeans = KMeans(n_clusters=4, random_state=0).fit(list_for_kmeans)\n",
        "print(\"4 clusters [height, width] = \\n\", kmeans.cluster_centers_)"
      ],
      "execution_count": 51,
      "outputs": [
        {
          "output_type": "stream",
          "text": [
            "4 clusters [height, width] = \n",
            " [[0.84026957 0.39908429]\n",
            " [0.60873609 0.3349399 ]\n",
            " [0.76679704 0.75434331]\n",
            " [0.35124573 0.23816278]]\n"
          ],
          "name": "stdout"
        }
      ]
    },
    {
      "cell_type": "markdown",
      "metadata": {
        "id": "SnYjUziArltd",
        "colab_type": "text"
      },
      "source": [
        "## Afer K-Means, 4 bounding box dimesions we get are:\n",
        "1. 0.84026957 0.39908429\n",
        "2. 0.60873609 0.3349399 \n",
        "3. 0.76679704 0.75434331\n",
        "4. 0.35124573 0.23816278"
      ]
    }
  ]
}